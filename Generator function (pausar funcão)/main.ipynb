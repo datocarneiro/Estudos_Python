{
 "cells": [
  {
   "cell_type": "markdown",
   "metadata": {},
   "source": [
    "# Generator function - funcão geradora\n",
    "\n",
    "resumindo  a função é `pausada com o retorno YIELD`\n",
    "\n",
    "assim a proxima vez que a função é chamada, ele execulta de onde parou \n",
    "\n",
    "para entender melhor `debugar`o códdigo\n"
   ]
  },
  {
   "cell_type": "code",
   "execution_count": 19,
   "metadata": {},
   "outputs": [
    {
     "name": "stdout",
     "output_type": "stream",
     "text": [
      "correr 100 metros\n",
      "correr 200 metros\n",
      "correr 300 metros\n"
     ]
    }
   ],
   "source": [
    "def correr(nome):\n",
    "    metragem =  \"correr 100 metros\"\n",
    "    yield metragem      # é pausada e o estado da função é mantido. \n",
    "    metragem =  \"correr 200 metros\"\n",
    "    yield metragem      # é pausada e o estado da função é mantido. \n",
    "    metragem =  \"correr 300 metros\"\n",
    "    yield metragem      # é pausada e o estado da função é mantido.\n",
    "\n",
    "corredor = correr(\"Dato\")\n",
    "for i in corredor:\n",
    "    print(i)\n",
    "    \n",
    "# resultado:\n",
    "# correr 100 metros\n",
    "# correr 200 metros\n",
    "# correr 300 metros\n",
    "\n"
   ]
  },
  {
   "cell_type": "code",
   "execution_count": null,
   "metadata": {},
   "outputs": [],
   "source": [
    "def fibonacci(n):\n",
    "    a, b = 0, 1\n",
    "    count = 0\n",
    "    while count < n:\n",
    "        yield a\n",
    "        a, b = b, a + b\n",
    "        count += 1\n",
    "\n",
    "# Usando a função geradora para obter os primeiros 10 números da sequência de Fibonacci\n",
    "lista = []\n",
    "for num in fibonacci(10):\n",
    "    lista.append(num)\n",
    "print(lista)\n",
    "\n",
    "#resultado: [0, 1, 1, 2, 3, 5, 8, 13, 21, 34]"
   ]
  }
 ],
 "metadata": {
  "kernelspec": {
   "display_name": "Python 3",
   "language": "python",
   "name": "python3"
  },
  "language_info": {
   "codemirror_mode": {
    "name": "ipython",
    "version": 3
   },
   "file_extension": ".py",
   "mimetype": "text/x-python",
   "name": "python",
   "nbconvert_exporter": "python",
   "pygments_lexer": "ipython3",
   "version": "3.11.5"
  }
 },
 "nbformat": 4,
 "nbformat_minor": 2
}
