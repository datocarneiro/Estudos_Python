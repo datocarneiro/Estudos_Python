{
 "cells": [
  {
   "cell_type": "markdown",
   "metadata": {},
   "source": [
    "# Generator function - Função que pausa - funcão geradora\n",
    "\n",
    "resumindo  a função é `pausada com o retorno YIELD`\n",
    "\n",
    "assim a proxima vez que a função é chamada, ele execulta de onde parou \n",
    "\n",
    "para entender melhor `debugar`o código\n"
   ]
  },
  {
   "cell_type": "code",
   "execution_count": null,
   "metadata": {},
   "outputs": [],
   "source": [
    "def gerar():\n",
    "    yield 10\n",
    "    print('continuando daqui')\n",
    "    yield 20\n",
    "    print('continuando daqui')\n",
    "    yield 30\n",
    "\n",
    "chamarFuncao = gerar()\n",
    "print(chamarFuncao)\n",
    "print(chamarFuncao)\n",
    "print(chamarFuncao)\n",
    "print(next(chamarFuncao)) # com o next \n",
    "print(next(chamarFuncao))\n",
    "print(next(chamarFuncao))\n",
    "\n",
    "# resultado:\n",
    "#             <generator object gerar at 0x00000136443D87C0>\n",
    "#             <generator object gerar at 0x00000136443D87C0>\n",
    "#             <generator object gerar at 0x00000136443D87C0>\n",
    "#             10\n",
    "#             continuando daqui\n",
    "#             20\n",
    "#             continuando daqui\n",
    "#             30\n",
    "\n"
   ]
  },
  {
   "cell_type": "code",
   "execution_count": 13,
   "metadata": {},
   "outputs": [
    {
     "name": "stdout",
     "output_type": "stream",
     "text": [
      "1 primeira\n",
      "Correu 100 metros\n",
      "2 primeira\n",
      "Correu 200 metros\n",
      "3 primeira\n",
      "Correu 300 metros\n"
     ]
    }
   ],
   "source": [
    "def Correr():\n",
    "    metragem =  \"Correu 100 metros\"\n",
    "    print(\"1 primeira\")      # é pausada e o estado da função é mantido. \n",
    "    yield metragem      # é pausada e o estado da função é mantido. \n",
    "    metragem =  \"Correu 200 metros\"\n",
    "    print(\"2 primeira\")   \n",
    "    yield metragem      # é pausada e o estado da função é mantido. \n",
    "    metragem =  \"Correu 300 metros\"\n",
    "    print(\"3 primeira\")   \n",
    "    yield metragem      # é pausada e o estado da função é mantido.\n",
    "\n",
    "corredor = Correr()\n",
    "for i in corredor:\n",
    "    print(i)\n",
    "    \n",
    "# resultado:\n",
    "# Correu 100 metros\n",
    "# Correu 200 metros\n",
    "# Correu 300 metros\n",
    "\n"
   ]
  },
  {
   "cell_type": "code",
   "execution_count": 14,
   "metadata": {},
   "outputs": [
    {
     "name": "stdout",
     "output_type": "stream",
     "text": [
      "[0, 1, 1, 2, 3, 5, 8, 13, 21, 34]\n"
     ]
    }
   ],
   "source": [
    "def fibonacci(n):\n",
    "    a, b = 0, 1\n",
    "    count = 0\n",
    "    while count < n:\n",
    "        yield a\n",
    "        a, b = b, a + b\n",
    "        count += 1\n",
    "\n",
    "# Usando a função geradora para obter os primeiros 10 números da sequência de Fibonacci\n",
    "lista = []\n",
    "for num in fibonacci(10):\n",
    "    lista.append(num)\n",
    "print(lista)\n",
    "\n",
    "#resultado: [0, 1, 1, 2, 3, 5, 8, 13, 21, 34]"
   ]
  }
 ],
 "metadata": {
  "kernelspec": {
   "display_name": "Python 3",
   "language": "python",
   "name": "python3"
  },
  "language_info": {
   "codemirror_mode": {
    "name": "ipython",
    "version": 3
   },
   "file_extension": ".py",
   "mimetype": "text/x-python",
   "name": "python",
   "nbconvert_exporter": "python",
   "pygments_lexer": "ipython3",
   "version": "3.11.5"
  }
 },
 "nbformat": 4,
 "nbformat_minor": 2
}
