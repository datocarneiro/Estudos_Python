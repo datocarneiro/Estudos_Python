{
 "cells": [
  {
   "cell_type": "markdown",
   "metadata": {},
   "source": [
    "# **Lambda (função anônima de uma linha)**\n",
    "    A função lambda é uma função como qualquer outra em Python. Porém, são funções anônimas que contém apenas uma linha. \n",
    "    Ou seja, tudo deve ser contido dentro de uma única expressão."
   ]
  }
 ],
 "metadata": {
  "language_info": {
   "name": "python"
  }
 },
 "nbformat": 4,
 "nbformat_minor": 2
}
