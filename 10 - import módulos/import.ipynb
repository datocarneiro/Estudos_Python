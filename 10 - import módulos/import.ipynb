{
 "cells": [
  {
   "cell_type": "markdown",
   "metadata": {},
   "source": [
    "# ***Módulos padrão do Python (import, from, as e `*`)`***\n",
    "https://docs.python.org/3/py-modindex.html\n",
    "\n",
    "## ***inteiro*** \n",
    "```python \n",
    "import nome_modulo\n",
    "* Vantagens: você tem o namespace do módulo\n",
    "* Desvantagens: nomes grandes\n",
    "```"
   ]
  },
  {
   "cell_type": "code",
   "execution_count": 10,
   "metadata": {},
   "outputs": [
    {
     "name": "stdout",
     "output_type": "stream",
     "text": [
      "win32\n"
     ]
    }
   ],
   "source": [
    "import sys\n",
    "\n",
    "print(sys.platform)"
   ]
  },
  {
   "cell_type": "markdown",
   "metadata": {},
   "source": [
    "## ***partes***\n",
    "```python\n",
    "from nome_modulo import objeto1, objeto2\n",
    "```\n",
    "* Vantagens: nomes pequenos\n",
    "* Desvantagens: Sem o namespace do módulo (tomar cuidade para não sobrepor com variaveis de mesmo nome)\n"
   ]
  },
  {
   "cell_type": "code",
   "execution_count": 11,
   "metadata": {},
   "outputs": [
    {
     "name": "stdout",
     "output_type": "stream",
     "text": [
      "win32\n"
     ]
    }
   ],
   "source": [
    "from sys import platform \n",
    "\n",
    "print(platform)"
   ]
  },
  {
   "cell_type": "markdown",
   "metadata": {},
   "source": [
    "# ***alias 1***\n",
    "```python import nome_modulo as apelido\n",
    " import sys as s # s será o apelido para chamadas posteriores\n",
    "```"
   ]
  },
  {
   "cell_type": "code",
   "execution_count": 12,
   "metadata": {},
   "outputs": [
    {
     "name": "stdout",
     "output_type": "stream",
     "text": [
      "win32\n"
     ]
    }
   ],
   "source": [
    "import sys as s \n",
    "print(s.platform)"
   ]
  },
  {
   "cell_type": "markdown",
   "metadata": {},
   "source": [
    "# ***alias 2***\n",
    "```python \n",
    "from nome_modulo import objeto as apelido\n",
    "```"
   ]
  },
  {
   "cell_type": "code",
   "execution_count": 13,
   "metadata": {},
   "outputs": [
    {
     "name": "stdout",
     "output_type": "stream",
     "text": [
      "win32\n",
      "<built-in function exit>\n"
     ]
    }
   ],
   "source": [
    "from sys import  platform as p, exit as ex\n",
    "print(p)\n",
    "print(ex)"
   ]
  },
  {
   "cell_type": "markdown",
   "metadata": {},
   "source": [
    "# ***má prática***\n",
    "```python \n",
    "from nome_modulo import *\n",
    "```\n",
    "* Vantagens: importa tudo de um módulo\n",
    "*  Desvantagens: importa tudo de um módulo"
   ]
  },
  {
   "cell_type": "code",
   "execution_count": 14,
   "metadata": {},
   "outputs": [
    {
     "name": "stdout",
     "output_type": "stream",
     "text": [
      "win32\n"
     ]
    }
   ],
   "source": [
    "from sys import *\n",
    "print(platform)"
   ]
  }
 ],
 "metadata": {
  "kernelspec": {
   "display_name": "Python 3",
   "language": "python",
   "name": "python3"
  },
  "language_info": {
   "codemirror_mode": {
    "name": "ipython",
    "version": 3
   },
   "file_extension": ".py",
   "mimetype": "text/x-python",
   "name": "python",
   "nbconvert_exporter": "python",
   "pygments_lexer": "ipython3",
   "version": "3.11.5"
  }
 },
 "nbformat": 4,
 "nbformat_minor": 2
}
