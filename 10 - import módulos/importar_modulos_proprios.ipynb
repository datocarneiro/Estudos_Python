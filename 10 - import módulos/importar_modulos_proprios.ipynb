{
 "cells": [
  {
   "cell_type": "markdown",
   "metadata": {},
   "source": [
    "# ***importação de módulos próprios***\n",
    " em Python é uma prática comum para organizar e reutilizar código em projetos maiores. Aqui está um resumo de como realizar essa importação:\n",
    "\n",
    "## ***Estrutura Básica de um Projeto***\n",
    "Para importar módulos próprios, é importante ter uma estrutura de diretórios organizada. Um exemplo de estrutura de projeto pode ser:\n",
    "```css\n",
    "meu_projeto/\n",
    "│\n",
    "├── main.py\n",
    "├── modulo_teste1.py\n",
    "├── modulo_teste2.py\n",
    "└── subpacote/\n",
    "    ├── __init__.py\n",
    "    └── modulo3.py\n",
    "```"
   ]
  },
  {
   "cell_type": "markdown",
   "metadata": {},
   "source": [
    "## ***Importando módulo_teste1***"
   ]
  },
  {
   "cell_type": "code",
   "execution_count": 53,
   "metadata": {},
   "outputs": [
    {
     "name": "stdout",
     "output_type": "stream",
     "text": [
      "resultado da função soma que esta no módulo_teste1: 5\n"
     ]
    }
   ],
   "source": [
    "import modulo_teste1\n",
    "\n",
    "# print(modulo_teste1.variavel)  # no jupiter essa linha vai dar erro , mas no python é exibida\n",
    "print(modulo_teste1.soma(2,3))"
   ]
  },
  {
   "cell_type": "markdown",
   "metadata": {},
   "source": [
    "## ***Importando módulo_teste2***"
   ]
  },
  {
   "cell_type": "code",
   "execution_count": 37,
   "metadata": {},
   "outputs": [
    {
     "name": "stdout",
     "output_type": "stream",
     "text": [
      "resultado da função soma que esta no módulo_teste2: 5\n"
     ]
    }
   ],
   "source": [
    "import modulo_teste2\n",
    "\n",
    "# print(modulo_teste2.variavel)  # no jupiter essa linha vai dar erro , mas no python é exibida\n",
    "print(modulo_teste2.soma(2,3))"
   ]
  },
  {
   "cell_type": "markdown",
   "metadata": {},
   "source": [
    "# ***Recarregar modulo***\n",
    "\n",
    "è possivel recarregar um modulo "
   ]
  },
  {
   "cell_type": "code",
   "execution_count": null,
   "metadata": {},
   "outputs": [],
   "source": [
    "import importlib\n",
    "\n",
    "import modulo_teste1\n",
    "\n",
    "for i in range(5):\n",
    "    importlib.reload(modulo_teste1)\n",
    "    print(i)\n",
    "\n"
   ]
  }
 ],
 "metadata": {
  "kernelspec": {
   "display_name": "Python 3",
   "language": "python",
   "name": "python3"
  },
  "language_info": {
   "codemirror_mode": {
    "name": "ipython",
    "version": 3
   },
   "file_extension": ".py",
   "mimetype": "text/x-python",
   "name": "python",
   "nbconvert_exporter": "python",
   "pygments_lexer": "ipython3",
   "version": "3.11.5"
  }
 },
 "nbformat": 4,
 "nbformat_minor": 2
}
