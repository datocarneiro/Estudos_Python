{
 "cells": [
  {
   "cell_type": "markdown",
   "metadata": {},
   "source": [
    "# **Sets - Conjuntos em Python (tipo set)**\n",
    "**Sets são eficientes para remover valores duplicados de iteráveis.**\n",
    "\n",
    "    # Conjuntos são ensinados na matemática\n",
    "https://brasilescola.uol.com.br/matematica/conjunto.htm\n",
    "\n",
    "    # Representados graficamente pelo diagrama de Venn\n",
    "\n",
    "    # Sets em Python são mutáveis, porém aceitam apenas tipos imutáveis como valor interno. Não aceitam valores mutáveis;\n",
    "\n",
    "**Sets são eficientes para remover valores duplicados de iteráveis.**\n",
    "\n",
    "    # - Seus valores serão sempre únicos;\n",
    "    # - não tem índexes;\n",
    "    # - não garantem ordem;\n",
    "    # - são iteráveis (for, in, not in)\n",
    "\n"
   ]
  },
  {
   "cell_type": "markdown",
   "metadata": {},
   "source": [
    "# **Métodos úteis:**\n",
    "    # add, update, clear, discard\n",
    "\n",
    "**Operadores úteis:**\n",
    "\n",
    "    # união | união (union) - Une\n",
    "    # intersecção & (intersection) - Itens presentes em ambos\n",
    "    # diferença - Itens presentes apenas no set da esquerda\n",
    "    # diferença simétrica ^ - Itens que não estão em ambos"
   ]
  },
  {
   "cell_type": "markdown",
   "metadata": {},
   "source": [
    "# Criar set\n",
    "\n",
    "**Com a função set():**\n",
    "\n",
    "    #Dica: passar tupla, lista como parametro "
   ]
  },
  {
   "cell_type": "code",
   "execution_count": null,
   "metadata": {},
   "outputs": [],
   "source": [
    "set1 = set()\n",
    "print(type(set1))\n",
    "# resultado:    <class 'set'>\n",
    "print(set1)\n",
    "# resultado:    set()\n",
    "set1 = set('1,2,3,4,5')\n",
    "print(type(set1))\n",
    "# resultado:    <class 'set'>\n",
    "\n",
    "print(set1)\n",
    "# resultado:    {'5', '1', '2', '3', '4', ','}"
   ]
  },
  {
   "cell_type": "markdown",
   "metadata": {},
   "source": [
    "**Criando normalmente** \n",
    "\n",
    "    #CUIDADO: Para criar um set vazio use a função set(), se não vai acabar criando um dicionario, pois sua estrutura é muito semelhante"
   ]
  },
  {
   "cell_type": "code",
   "execution_count": null,
   "metadata": {},
   "outputs": [],
   "source": [
    "set2 = {'1,2,3,4,5'}\n",
    "print(type(set2))\n",
    "# resultado:    <class 'set'>\n",
    "print(set2)\n",
    "# resultado:    {'1,2,3,4,5'}\n"
   ]
  }
 ],
 "metadata": {
  "kernelspec": {
   "display_name": "Python 3",
   "language": "python",
   "name": "python3"
  },
  "language_info": {
   "codemirror_mode": {
    "name": "ipython",
    "version": 3
   },
   "file_extension": ".py",
   "mimetype": "text/x-python",
   "name": "python",
   "nbconvert_exporter": "python",
   "pygments_lexer": "ipython3",
   "version": "3.11.5"
  }
 },
 "nbformat": 4,
 "nbformat_minor": 2
}
