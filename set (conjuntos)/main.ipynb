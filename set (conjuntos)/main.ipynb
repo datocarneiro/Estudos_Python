{
 "cells": [
  {
   "cell_type": "markdown",
   "metadata": {},
   "source": [
    "# **Sets - Conjuntos em Python (tipo set)**\n",
    "**Sets são eficientes para remover valores duplicados de iteráveis.**\n",
    "\n",
    "    # Conjuntos são ensinados na matemática\n",
    "https://brasilescola.uol.com.br/matematica/conjunto.htm\n",
    "\n",
    "    # Representados graficamente pelo diagrama de Venn\n",
    "\n",
    "    # Sets em Python são mutáveis, porém aceitam apenas tipos imutáveis como valor interno. Não aceitam valores mutáveis;\n",
    "\n",
    "# Sets são eficientes para remover valores duplicados de iteráveis.\n",
    "\n",
    "    # - Seus valores serão sempre únicos;\n",
    "    # - não tem índexes;\n",
    "    # - não garantem ordem;\n",
    "    # - são iteráveis (for, in, not in)\n",
    "\n"
   ]
  },
  {
   "cell_type": "markdown",
   "metadata": {},
   "source": [
    "# **Métodos úteis:**\n",
    "* add\n",
    "* update\n",
    "* clear\n",
    "* discard\n",
    "\n",
    "# **Operadores úteis:**\n",
    "| , & , - , ^\n",
    "\n",
    "* | :......... união (union) - Une\n",
    "* & :......... (intersection) - retorna Itens presentes em ambos\n",
    "* `-` :......... Diferença - Retorna itens presentes apenas no set da esquerda\n",
    "* ^ :.......... diferença simétrica ^ - Retorna itens que não estão em ambos"
   ]
  },
  {
   "cell_type": "markdown",
   "metadata": {},
   "source": [
    "# ***Criar set***\n",
    "\n",
    "## **Criando com a função set():**\n",
    "\n",
    "`Atenção:` não garante a ordem dos elemento (não tem índice)\n",
    "\n",
    "`Dica:` passar tupla, lista como parametro "
   ]
  },
  {
   "cell_type": "code",
   "execution_count": 1,
   "metadata": {},
   "outputs": [
    {
     "name": "stdout",
     "output_type": "stream",
     "text": [
      "set() <class 'set'>\n",
      "{',', '1', '2', '4', '5', '3'} <class 'set'>\n",
      "{'o', 'D', 'a', 't'} <class 'set'>\n",
      "{1, 2, 3, 4, 'carneiro'} <class 'set'>\n"
     ]
    }
   ],
   "source": [
    "set1 = set()\n",
    "print(set1, type(set1))\n",
    "# resultado:    set() <class 'set'>\n",
    "\n",
    "set1 = set('1,2,3,4,5')\n",
    "print(set1, type(set1))\n",
    "# resultado:    {'5', '3', ',', '4', '2', '1'} <class 'set'>\n",
    "\n",
    "set2 = set('Dato')\n",
    "print(set2, type(set2))\n",
    "# resultado:    {'o', 't', 'a', 'D'} <class 'set'>\n",
    "\n",
    "'''para não ficar o elemento iteravél sobre cada letra, posso passar um iteravel dentro (tupla, lista) '''\n",
    "set3 = set(('carneiro',1 ,2, 3, 4))\n",
    "print(set3, type(set3))\n",
    "# resultado:    {1, 2, 3, 4, 'carneiro'} <class 'set'>"
   ]
  },
  {
   "cell_type": "markdown",
   "metadata": {},
   "source": [
    "## **Criando normalmente com a estrutura set = {}** \n",
    "\n",
    "    #CUIDADO: Para criar um set vazio use a função set(), se não vai acabar criando um dicionario, pois sua estrutura é muito semelhante"
   ]
  },
  {
   "cell_type": "code",
   "execution_count": null,
   "metadata": {},
   "outputs": [],
   "source": [
    "set3 = {'1,2,3,4,5'}\n",
    "print(set3, type(set3))\n",
    "# resultado:    {'1,2,3,4,5'} <class 'set'>\n",
    "\n",
    "set4 = {'Dato'}\n",
    "print(set4, type(set4))\n",
    "# resultado:    {'Dato'} <class 'set'>"
   ]
  },
  {
   "cell_type": "markdown",
   "metadata": {},
   "source": [
    "# **set, remove automaticamente elementos duplicados**\n",
    "\n",
    "    mas não garante a ordem dos elementos"
   ]
  },
  {
   "cell_type": "code",
   "execution_count": null,
   "metadata": {},
   "outputs": [],
   "source": [
    "set1 = {10, 20, 20, 20, 20, 30, 40}\n",
    "print(set1)\n",
    "# resultado:    {40, 10, 20, 30}"
   ]
  },
  {
   "cell_type": "markdown",
   "metadata": {},
   "source": [
    "# **set não possuem indixes**\n",
    "\n",
    "    mas podemos saber se um elemento existe da seguinte forma "
   ]
  },
  {
   "cell_type": "code",
   "execution_count": null,
   "metadata": {},
   "outputs": [],
   "source": [
    "set1 = {1,2,3,4,5,6}\n",
    "print(5 in set1)\n",
    "# resultado :   True\n",
    "\n",
    "print(7 in set1)\n",
    "# resultado :   False"
   ]
  },
  {
   "cell_type": "markdown",
   "metadata": {},
   "source": [
    "# **Métodos úteis:**\n",
    "* add\n",
    "* update\n",
    "* clear\n",
    "* discard"
   ]
  },
  {
   "cell_type": "markdown",
   "metadata": {},
   "source": [
    "## ***Método add***\n",
    "\n",
    "Adiciona um elemento ao set"
   ]
  },
  {
   "cell_type": "code",
   "execution_count": 2,
   "metadata": {},
   "outputs": [
    {
     "name": "stdout",
     "output_type": "stream",
     "text": [
      "{1, 2}\n",
      "{'Dato', 1, 2}\n"
     ]
    }
   ],
   "source": [
    "set1 = {1,2}\n",
    "print(set1)\n",
    "# resultado :   {1, 2}\n",
    "\n",
    "set1.add('Dato')\n",
    "print(set1)\n",
    "# resultado :   {1, 2, 'Dato'}"
   ]
  },
  {
   "cell_type": "markdown",
   "metadata": {},
   "source": [
    "## ***Método update***\n",
    "\n",
    "semelhante ao método add, mas a função é atualizar o set"
   ]
  },
  {
   "cell_type": "code",
   "execution_count": null,
   "metadata": {},
   "outputs": [],
   "source": [
    "set1 = {1,2}\n",
    "print(set1)\n",
    "# resultado :   {1, 2}\n",
    "\n",
    "set1.update(('Dato',))\n",
    "print(set1)\n",
    "# resultado :   {1, 2, 'Dato'}"
   ]
  },
  {
   "cell_type": "markdown",
   "metadata": {},
   "source": [
    "## ***Método Discard***\n",
    "Descartando/deletando um elemento com método discard\n",
    "\n",
    "`Syntax`\n",
    "```python\n",
    "set.discard('elemento') # passar o elemento que será discartado como argumento\n",
    "```"
   ]
  },
  {
   "cell_type": "code",
   "execution_count": 4,
   "metadata": {},
   "outputs": [
    {
     "name": "stdout",
     "output_type": "stream",
     "text": [
      "{1, 2, 3, 4, 5, 'Dato'}\n",
      "{1, 2, 3, 4, 5}\n"
     ]
    }
   ],
   "source": [
    "set1 = {1,2,'Dato', 3, 4, 5}\n",
    "print(set1)\n",
    "# resultado :   {1, 2, 3, 4, 5, 'Dato'}\n",
    "\n",
    "set1.discard('Dato')\n",
    "print(set1)\n",
    "# resultado :   {1, 2, 3, 4, 5}"
   ]
  },
  {
   "cell_type": "markdown",
   "metadata": {},
   "source": [
    "## ***Método Clear*** \n",
    "Apagando `todos os elementos` com o método clear()"
   ]
  },
  {
   "cell_type": "code",
   "execution_count": null,
   "metadata": {},
   "outputs": [],
   "source": [
    "set1 = {1,2,'Dato', 3, 4, 5}\n",
    "print(set1)\n",
    "# resultado :   {1, 2, 3, 4, 5, 'Dato'}\n",
    "\n",
    "set1.clear()\n",
    "print(set1)\n",
    "# resultado :   set()"
   ]
  },
  {
   "cell_type": "markdown",
   "metadata": {},
   "source": [
    "\n",
    "# **Operadores úteis:**\n",
    "\n",
    "| , & , - , ^\n",
    "\n",
    "* | :......... união (union) - Une\n",
    "* & :......... (intersection) - retorna Itens presentes em ambos\n",
    "* `-` :......... Diferença - Retorna itens presentes apenas no set da esquerda\n",
    "* ^ :.......... diferença simétrica ^ - Retorna itens que não estão em ambos"
   ]
  },
  {
   "cell_type": "markdown",
   "metadata": {},
   "source": [
    "## ***' |'  ... união entre dois set***\n",
    "\n",
    "    irá retornar a união de dois set (eliminando valores duplicados)\n"
   ]
  },
  {
   "cell_type": "code",
   "execution_count": null,
   "metadata": {},
   "outputs": [],
   "source": [
    "set1 = {1, 2, 3}\n",
    "set2 = {2, 3, 4}\n",
    "set3 = set1 | set2\n",
    "print(set3)\n",
    "# resultado :   {1, 2, 3, 4}"
   ]
  },
  {
   "cell_type": "markdown",
   "metadata": {},
   "source": [
    "## ***'&'... Intersecção***\n",
    "\n",
    "    irá retornar somente os elementos iguais entre os dois set"
   ]
  },
  {
   "cell_type": "code",
   "execution_count": null,
   "metadata": {},
   "outputs": [],
   "source": [
    "set1 = {1, 2, 3}\n",
    "set2 = {2, 3, 4}\n",
    "set3 = set1 & set2\n",
    "print(set3)\n",
    "# resultado :   {2, 3}"
   ]
  },
  {
   "cell_type": "markdown",
   "metadata": {},
   "source": [
    "## ***'-' ... diferença***\n",
    "    irá retornar somente os elemento diferente entre os set, e que estão no primeiro set passado (o da esquerda)"
   ]
  },
  {
   "cell_type": "code",
   "execution_count": null,
   "metadata": {},
   "outputs": [],
   "source": [
    "set1 = {1, 2, 3}\n",
    "set2 = {2, 3, 4}\n",
    "set3 = set1 - set2\n",
    "print(set3)\n",
    "# resultado :   {1}\n",
    "\n",
    "set4 = set2 - set1\n",
    "print(set4)\n",
    "# resultado :   {4}"
   ]
  },
  {
   "cell_type": "markdown",
   "metadata": {},
   "source": [
    "## ***'^\" ... simétrica***\n",
    "    irá retornar somente os elementos que são diferentes entre os set (não estão em ambos os set)"
   ]
  },
  {
   "cell_type": "code",
   "execution_count": null,
   "metadata": {},
   "outputs": [],
   "source": [
    "set1 = {1, 2, 3}\n",
    "set2 = {2, 3, 4}\n",
    "set3 = set1 ^ set2\n",
    "print(set3)\n",
    "# resultado :   {1, 4}\n"
   ]
  }
 ],
 "metadata": {
  "kernelspec": {
   "display_name": "Python 3",
   "language": "python",
   "name": "python3"
  },
  "language_info": {
   "codemirror_mode": {
    "name": "ipython",
    "version": 3
   },
   "file_extension": ".py",
   "mimetype": "text/x-python",
   "name": "python",
   "nbconvert_exporter": "python",
   "pygments_lexer": "ipython3",
   "version": "3.11.5"
  }
 },
 "nbformat": 4,
 "nbformat_minor": 2
}
