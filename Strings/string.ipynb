{
 "cells": [
  {
   "cell_type": "markdown",
   "metadata": {},
   "source": [
    "# ***'''Manipulção de Strings'''***\n",
    "    split e join com list e str\n",
    "    split - divide uma string (list)\n",
    "    join - une uma string"
   ]
  },
  {
   "cell_type": "markdown",
   "metadata": {},
   "source": [
    "# **Split**\n",
    "    retorna uma lista da frase, separarando a frase de acordo com o delimitador passado com argumento, se em branco ele considera o separador os espaços em brancos\n",
    "\n",
    "    list comprerantion se encaixa perfeito com split, pesquisar"
   ]
  },
  {
   "cell_type": "code",
   "execution_count": null,
   "metadata": {},
   "outputs": [],
   "source": [
    "\n",
    "frase = 'Olha só que, coisa interessante'\n",
    "lista_frases1 = frase.split()\n",
    "print(lista_frases1)\n",
    "# Resultado: ['Olha', 'só', 'que,', 'coisa', 'interessante']\n",
    "\n",
    "frase = 'Olha só que, coisa interessante'\n",
    "lista_frases2 = frase.split(',')\n",
    "print(lista_frases2)\n",
    "# Resultado: ['Olha só que', ' coisa interessante']"
   ]
  },
  {
   "cell_type": "code",
   "execution_count": null,
   "metadata": {},
   "outputs": [],
   "source": [
    "# útil\n",
    "frase = '   Olha só que   , coisa interessante          '\n",
    "lista_frases_cruas = frase.split(',')\n",
    "\n",
    "lista_frases_corrigida = []\n",
    "for i, frase in enumerate(lista_frases_cruas):\n",
    "    lista_frases_corrigida.append(lista_frases_cruas[i].strip())\n",
    "    \n",
    "print(lista_frases_corrigida)\n",
    "# Resultado: ['Olha só que', 'coisa interessante']\n"
   ]
  },
  {
   "cell_type": "markdown",
   "metadata": {},
   "source": [
    "# **join()**\n",
    "    une frase de acordo com o delimitador definido\n",
    "    "
   ]
  },
  {
   "cell_type": "code",
   "execution_count": null,
   "metadata": {},
   "outputs": [],
   "source": [
    "frase = ['Dato', 'Carneiro']\n",
    "frase_unida = ''.join(frase) # o delimitador é chamado antes\n",
    "print(frase_unida)\n",
    "# Resultado: Dato-Carneiro"
   ]
  },
  {
   "cell_type": "markdown",
   "metadata": {},
   "source": [
    "# **.replace()**\n",
    "    substitiu um caracter por outro, passado 2 argumentos\n",
    "\n",
    "        .replace(' ', '/')\n",
    "\n",
    "        o primeiro é o que devo substituir\n",
    "        o segundo é o que irá substituir\n",
    "\n",
    "        pode ser chamado   quantas vezes quiser"
   ]
  },
  {
   "cell_type": "code",
   "execution_count": null,
   "metadata": {},
   "outputs": [],
   "source": [
    "frase = 'Dato Carneiro'.replace(' ', '/')\n",
    "print(frase)\n",
    "# Resultado: Dato/Carneiro"
   ]
  },
  {
   "cell_type": "code",
   "execution_count": null,
   "metadata": {},
   "outputs": [],
   "source": [
    "frase = 'Dato Carneiro'.replace(' ', '/').replace('Dato','Jonathas')\n",
    "print(frase)\n",
    "# Resultado: Jonathas/Carneiro"
   ]
  },
  {
   "cell_type": "markdown",
   "metadata": {},
   "source": [
    "# **Eliminando espaços da frase**\n",
    "\n",
    "# strip()\n",
    "    Elimina os espaçõs do começo e do fim de uma frase"
   ]
  },
  {
   "cell_type": "code",
   "execution_count": null,
   "metadata": {},
   "outputs": [],
   "source": [
    "frase = '    #Olha só que, coisa interessante#     '\n",
    "lista_frases2 = frase.strip()\n",
    "print(lista_frases2)\n",
    "# Resultado: #Olha só que, coisa interessante#"
   ]
  },
  {
   "cell_type": "markdown",
   "metadata": {},
   "source": [
    "# lstrip()\n",
    "    Elimina os espaços da esquerda frase"
   ]
  },
  {
   "cell_type": "code",
   "execution_count": null,
   "metadata": {},
   "outputs": [],
   "source": [
    "frase = '    #Olha só que, coisa interessante#     '\n",
    "lista_frases2 = frase.lstrip()\n",
    "print(lista_frases2)\n",
    "# Resultado: #Olha só que, coisa interessante#     ."
   ]
  },
  {
   "cell_type": "markdown",
   "metadata": {},
   "source": [
    "# rstrip()\n",
    "    Elimina os espaços da direita da frase"
   ]
  },
  {
   "cell_type": "code",
   "execution_count": null,
   "metadata": {},
   "outputs": [],
   "source": [
    "frase = '    #Olha só que, coisa interessante#     '\n",
    "lista_frases2 = frase.rstrip()\n",
    "print(lista_frases2)\n",
    "# Resultado:     #Olha só que, coisa interessante#."
   ]
  }
 ],
 "metadata": {
  "kernelspec": {
   "display_name": "Python 3",
   "language": "python",
   "name": "python3"
  },
  "language_info": {
   "codemirror_mode": {
    "name": "ipython",
    "version": 3
   },
   "file_extension": ".py",
   "mimetype": "text/x-python",
   "name": "python",
   "nbconvert_exporter": "python",
   "pygments_lexer": "ipython3",
   "version": "3.11.5"
  }
 },
 "nbformat": 4,
 "nbformat_minor": 2
}
