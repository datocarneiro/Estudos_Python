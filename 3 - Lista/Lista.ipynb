{
 "cells": [
  {
   "cell_type": "markdown",
   "metadata": {},
   "source": [
    " # **'''Listas em Python'''**\n",
    "   * são Mutável\n",
    "   * Suporta vários valores de qualquer tipo\n",
    "   * Conhecimentos reutilizáveis - índices e fatiamento\n",
    "   * Métodos úteis: append, insert, pop, del, clear, extend, +\n",
    "\n",
    "```PYTHOn\n",
    "list é uma class, então podemos chamar os method (métodos) que éssa classe possuiu\n",
    "\n",
    "para chamar os method (métodos) inserimos o `.` após a class list ficanco `list.` , no vscode isso irá retornar alguns métodos que a class list possui\n",
    "```"
   ]
  },
  {
   "cell_type": "markdown",
   "metadata": {},
   "source": [
    "# **CRUD em Listas**\n",
    "        Create Read Update   Delete\n",
    "        Criar, ler, alterar, apagar = lista[i] (CRUD)\n",
    "        \n",
    "# ***Métodos úteis:***\n",
    "\n",
    "| Método              | Descrição                                                                                      |\n",
    "|---------------------|------------------------------------------------------------------------------------------------|\n",
    "| `append()`          | Adiciona um item ao final da lista.                                                            |\n",
    "| `extend()`          | Adiciona todos os itens de um iterável à lista.                                                |\n",
    "| `insert()`          | Insere um item em uma posição específica.                                                      |\n",
    "| `remove()`          | Remove a primeira ocorrência de um item na lista.                                              |\n",
    "| `pop()`             | Remove e retorna o item de uma posição específica (ou o último item, se a posição não for especificada).|\n",
    "| `clear()`           | Remove todos os itens da lista.                                                                |\n",
    "| `index()`           | Retorna o índice da primeira ocorrência de um item.                                            |\n",
    "| `count()`           | Retorna o número de ocorrências de um item na lista.                                           |\n",
    "| `sort()`            | Ordena a lista em ordem crescente (ou decrescente, se especificado).    |\n",
    "| `sorted()`          |  Retorna uma nova lista ordenada sem modificar a lista original    |\n",
    "| `reverse()`         | Inverte a ordem dos itens na lista.                                                            |\n",
    "| `copy()`            | Retorna uma cópia rasa da lista.                                                               |\n",
    "| `__len__()`         | Retorna o número de itens na lista.                                                            |\n",
    "| `__getitem__()`     | Retorna o item na posição especificada.                                                        |\n",
    "| `__setitem__()`     | Define o valor do item na posição especificada.                                                |\n",
    "| `__delitem__()`     | Remove o item na posição especificada.                                                         |\n",
    "| `__iter__()`        | Retorna um iterador para a lista.                                                              |\n",
    "| `__contains__()`    | Verifica se um item está na lista.                                                             |\n",
    "| `__repr__()`        | Retorna a representação string da lista.                                                       |\n",
    "| `__eq__()`          | Verifica se duas listas são iguais.                                                            |\n",
    "| `__ne__()`          | Verifica se duas listas são diferentes.                                                        |\n"
   ]
  },
  {
   "cell_type": "markdown",
   "metadata": {},
   "source": [
    "# Algoritmos e Operações em Listas em Python\n",
    "\n",
    "## Algoritmos de Ordenação\n",
    "\n",
    "| Algoritmo      | Descrição |\n",
    "|----------------|-----------|\n",
    "| **Bubble Sort** | Algoritmo simples que troca elementos adjacentes que estão na ordem errada. |\n",
    "| **Selection Sort** | Algoritmo que divide a lista em duas partes, a ordenada e a não ordenada, e repetidamente seleciona o menor (ou maior) elemento da parte não ordenada e o move para a parte ordenada. |\n",
    "| **Insertion Sort** | Algoritmo que constrói a lista ordenada um elemento de cada vez, inserindo cada novo elemento na posição correta. |\n",
    "| **Merge Sort** | Algoritmo de ordenação por divisão e conquista que divide a lista em sublistas menores, ordena essas sublistas e depois as mescla de volta em uma lista ordenada. |\n",
    "| **Quick Sort** | Algoritmo de ordenação por divisão e conquista que seleciona um pivô e particiona a lista em elementos menores e maiores que o pivô, e então ordena as sublistas. |\n",
    "\n",
    "## Operações Avançadas\n",
    "\n",
    "| Operação      | Descrição |\n",
    "|---------------|-----------|\n",
    "| **List Comprehensions** | Sintaxe concisa para criar listas. <br> `lista = [x**2 for x in range(10)]` |\n",
    "| **map()** | Aplica uma função a todos os itens de um iterável. <br> `map(func, iterável)` |\n",
    "| **filter()** | Filtra itens de um iterável com base em uma função. <br> `filter(func, iterável)` |\n",
    "| **reduce()** | Aplica uma função de redução cumulativa aos itens de um iterável. <br> `from functools import reduce` <br> `reduce(func, iterável)` |\n",
    "| **enumerate()** | Retorna um objeto enumerado, que contém pares de índice e valor. <br> `for index, value in enumerate(lista):` <br> `print(index, value)` |\n",
    "| **zip()** | Combina dois ou mais iteráveis, retornando uma lista de tuplas. <br> `list(zip(lista1, lista2))` |\n"
   ]
  },
  {
   "cell_type": "markdown",
   "metadata": {},
   "source": [
    "# **Criar**\n",
    "- Método list()\n",
    "- lista = []"
   ]
  },
  {
   "cell_type": "code",
   "execution_count": 29,
   "metadata": {},
   "outputs": [
    {
     "name": "stdout",
     "output_type": "stream",
     "text": [
      "['c', 'a', 'r', 'r', 'o']\n",
      "[1, 2, 3, 4, 5]\n"
     ]
    }
   ],
   "source": [
    "''' como corverter uma variavel em uma lista com a função list()'''\n",
    "variavel = 'carro'\n",
    "variavel2 = 1,2,3,4,5\n",
    "criando_lista = list(variavel)\n",
    "criando_lista2 = list(variavel2)\n",
    "print(criando_lista)\n",
    "print(criando_lista2)\n",
    "# resultado: ['c', 'a', 'r', 'r', 'o']\n",
    "# resultado: [1, 2, 3, 4, 5]"
   ]
  },
  {
   "cell_type": "code",
   "execution_count": null,
   "metadata": {},
   "outputs": [],
   "source": [
    "''' como corverter uma variavel em uma lista'''\n",
    "\n",
    "variavel = 'carro'\n",
    "variavel2 = 1,2,3,4,5\n",
    "criando_lista = [variavel]\n",
    "criando_lista2 = [variavel2]\n",
    "print(criando_lista)\n",
    "print(criando_lista2)\n",
    "# resultado: ['carro']\n",
    "# resultado:[(1, 2, 3, 4, 5)]"
   ]
  },
  {
   "cell_type": "markdown",
   "metadata": {},
   "source": [
    "# apontado valores de outra lista\n",
    "    \n",
    "    # Dica\n",
    "        usando o sinal d atribuição ' = ', não será feita uma cópia para uma nova lista, apenas estamos apontando para o valor da lista \"Raiz\"\n",
    "        \n",
    "        No exemplo abaixo:\n",
    "            veja que se modificamos o valor da lista2, e os valores da lista1 tambem são afetados"
   ]
  },
  {
   "cell_type": "code",
   "execution_count": null,
   "metadata": {},
   "outputs": [],
   "source": [
    "lista1 = ['Dato','idade']\n",
    "lista2 = lista1\n",
    "lista2[0] = 'Joshua'\n",
    "\n",
    "print(lista1)\n",
    "# Resultado: ['Joshua', 'idade']\n",
    "print(lista2)\n",
    "# Resultado: ['Joshua', 'idade']"
   ]
  },
  {
   "cell_type": "markdown",
   "metadata": {},
   "source": [
    "**Ideal seria usar o método copy()** (cópia Raza)\n",
    "\n",
    "        porem não atende para subníveis do dicionario(dicioanrio dentro de dicionario, lista dentreo de dicionario etc...)"
   ]
  },
  {
   "cell_type": "code",
   "execution_count": 2,
   "metadata": {},
   "outputs": [
    {
     "name": "stdout",
     "output_type": "stream",
     "text": [
      "['Dato', 18]\n",
      "['Joshua', 18]\n"
     ]
    }
   ],
   "source": [
    "lista1 = ['Dato', 18]\n",
    "\n",
    "lista2 = lista1.copy()\n",
    "lista2[0] = 'Joshua'\n",
    "\n",
    "print(lista1)\n",
    "# Resultado: ['Dato', 18]\n",
    "print(lista2)\n",
    "# Resultado: ['Joshua', 18]"
   ]
  },
  {
   "cell_type": "markdown",
   "metadata": {},
   "source": [
    "    veja como não atende a subníveis, o indeci 1 da lista é afetada em ambos os dicionario\n",
    "\n",
    "    para atender isso devemos usar deepcopy do modulo copy (veja no proximo exemplo)"
   ]
  },
  {
   "cell_type": "code",
   "execution_count": null,
   "metadata": {},
   "outputs": [],
   "source": [
    "lista1 = ['Dato', 18, [1,2,3]]\n",
    "\n",
    "lista2 = lista1.copy()\n",
    "lista2[2][1] = 'valor alterado'\n",
    "\n",
    "print(lista1)\n",
    "# Resultado: ['Dato', 18, [1, 'valor alterado', 3]]\n",
    "print(lista2)\n",
    "# Resultado: ['Dato', 18, [1, 'valor alterado', 3]]"
   ]
  },
  {
   "cell_type": "markdown",
   "metadata": {},
   "source": [
    "**Usando deeepcopy do módulo copy** (cópia total)\n",
    "\n",
    "    - precisa ser importado (import copy)\n",
    "    - Atende subníveis da lista, modificando somente uma das listas"
   ]
  },
  {
   "cell_type": "code",
   "execution_count": null,
   "metadata": {},
   "outputs": [],
   "source": [
    "import copy\n",
    "\n",
    "lista1 = ['Dato', 18, [1,2,3]]\n",
    "\n",
    "lista2 = copy.deepcopy(lista1)\n",
    "lista2[2][1] = 'valor alterado'\n",
    "\n",
    "print(lista1)\n",
    "# Resultado: ['Dato', 18, [1, 2, 3]]\n",
    "print(lista2)\n",
    "# Resultado: ['Dato', 18, [1, 'valor alterado', 3]]"
   ]
  },
  {
   "cell_type": "markdown",
   "metadata": {},
   "source": [
    "# **Ler**"
   ]
  },
  {
   "cell_type": "code",
   "execution_count": null,
   "metadata": {},
   "outputs": [],
   "source": [
    "lista = [1, 2, 3, 4, 5, 6]\n",
    "\n",
    "ler = len(lista) # o método len() retorna a qtd de elementos que existe na lista\n",
    "print(ler) \n",
    "#resultado: 6\n",
    "\n",
    "ler_valor = lista[0] # lendo o conteúdo do indice 0\n",
    "print(ler_valor)\n",
    "# resultado: 1\n",
    "\n",
    "valor = 4\n",
    "if valor in lista:\n",
    "    print(f'Sim o {valor}, esta na lista')\n",
    "# resultado: Sim o 4, esta na lista"
   ]
  },
  {
   "cell_type": "markdown",
   "metadata": {},
   "source": [
    "# #Dica: retornando o índice dos elementos da lista ↓↓↓*\n",
    "\n",
    "# utilizando a função range()"
   ]
  },
  {
   "cell_type": "code",
   "execution_count": 3,
   "metadata": {},
   "outputs": [],
   "source": [
    "lista = ['Dato', 'Daniel', 'Gislaine']\n",
    "for i in range(len(lista)):\n",
    "    print(i, lista[i])\n",
    "\n",
    "# Resultado:  0 Dato\n",
    "#             1 Daniel\n",
    "#             2 Gislaine"
   ]
  },
  {
   "cell_type": "markdown",
   "metadata": {},
   "source": [
    "# Utilizando a função enumerate()"
   ]
  },
  {
   "cell_type": "code",
   "execution_count": null,
   "metadata": {},
   "outputs": [],
   "source": [
    "lista = ['Zec', 'Daniel', 'Gislaine']\n",
    "# para cada indice e valor na minha lista enumerada\n",
    "for indice in enumerate(lista): \n",
    "    print(indice)\n",
    "# Resultado: (0, 'Zec')\n",
    "#            (1, 'Daniel')\n",
    "#            (2, 'Gislaine')\n",
    "    \n",
    "for indice, valor in enumerate(lista): \n",
    "    print(indice,valor)\n",
    "# Resultado:  0 Zec\n",
    "#             1 Daniel\n",
    "#             2 Gislaine\n",
    "    \n",
    "for indice, valor in enumerate(lista, start = 20): # com o argumento start posso definir o indicial inicial\n",
    "    print(indice, valor)\n",
    "# Resultado:    20 Zec\n",
    "#               21 Daniel\n",
    "#               22 Gislaine"
   ]
  },
  {
   "cell_type": "markdown",
   "metadata": {},
   "source": [
    "# **Alterar valores indicando índice**"
   ]
  },
  {
   "cell_type": "code",
   "execution_count": null,
   "metadata": {},
   "outputs": [],
   "source": [
    "lista = [10, 20, 30, 40, 50, 60]\n",
    "lista[1] = \"abc\"\n",
    "print(lista)\n",
    "# resultado: [10, 'abc', 30, 40, 50, 60]"
   ]
  },
  {
   "cell_type": "markdown",
   "metadata": {},
   "source": [
    "# **Adicionar**"
   ]
  },
  {
   "cell_type": "markdown",
   "metadata": {},
   "source": [
    "# Usando o método append()\n",
    "    será adicionado o valor sempre ao final da lista"
   ]
  },
  {
   "cell_type": "code",
   "execution_count": null,
   "metadata": {},
   "outputs": [],
   "source": [
    "lista = [10, 20, 30, 40, 50, 60]\n",
    "lista.append(100)\n",
    "lista.append(1)\n",
    "print(lista)\n",
    "# resultado: [10, 20, 30, 40, 50, 60, 100, 1]"
   ]
  },
  {
   "cell_type": "markdown",
   "metadata": {},
   "source": [
    "# Usando o método insert()\n",
    "    Adiciona um item no índice escolhido\n",
    "    passando 2 argumento (0, \"ABC\"), o primeiro para o índice, e o segundo será o valor"
   ]
  },
  {
   "cell_type": "code",
   "execution_count": null,
   "metadata": {},
   "outputs": [],
   "source": [
    "lista = [10, 20, 30]\n",
    "lista.insert(0, 'ABC')\n",
    "print(lista)\n",
    "# resultado: ['ABC', 10, 20, 30]"
   ]
  },
  {
   "cell_type": "markdown",
   "metadata": {},
   "source": [
    "# Usando o operador \"+\" para concatenar listas"
   ]
  },
  {
   "cell_type": "code",
   "execution_count": null,
   "metadata": {},
   "outputs": [],
   "source": [
    "lista1 = [10, 20, 30]\n",
    "lista2 = ['A', 'B', 'C']\n",
    "lista3 = lista1 + lista2\n",
    "print(lista3)\n",
    "# resultado: [10, 20, 30, 'A', 'B', 'C']"
   ]
  },
  {
   "cell_type": "markdown",
   "metadata": {},
   "source": [
    "# Usando o método extend()"
   ]
  },
  {
   "cell_type": "markdown",
   "metadata": {},
   "source": []
  },
  {
   "cell_type": "code",
   "execution_count": null,
   "metadata": {},
   "outputs": [],
   "source": [
    "lista1 = [10, 20, 30]\n",
    "lista2 = ['A', 'B', 'C']\n",
    "\n",
    "print(f'lista 1 , sem alteração = {lista1}')\n",
    "# resultado: lista 1 , sem alteração = [10, 20, 30]\n",
    "\n",
    "lista3 = lista1.extend(lista2)\n",
    "print(f'lista 1 , com alteração, lista 1 adiciona dados da lista 2 = {lista1}')\n",
    "# resultado: \n",
    "\n",
    "lista3 = lista2.extend(lista1)\n",
    "print(f'lista 2 , com alteração, lista 2 adiciona dados da lista 1 = {lista2}')\n",
    "# resultado: \n",
    "\n",
    "print(f'lista 3 = {lista3}')\n",
    "\n",
    "# resultado: [10, 20, 30, 'A', 'B', 'C']"
   ]
  },
  {
   "cell_type": "markdown",
   "metadata": {},
   "source": [
    "# **Delete**"
   ]
  },
  {
   "cell_type": "markdown",
   "metadata": {},
   "source": [
    "# Usando a instrução del\n",
    "    Recomendado excluir somente do final da lista, pois ao deletar a lista inteira será reorganizada \n",
    "    Ex: uma lista com 1000 indice, se excluirmos o segundo será reorganizado 998 elementos"
   ]
  },
  {
   "cell_type": "code",
   "execution_count": null,
   "metadata": {},
   "outputs": [],
   "source": [
    "\n",
    "lista = [10, 20, 30, 40, 50, 60]\n",
    "del lista[2] # aqui passamos o índice\n",
    "print(lista) \n",
    "# resultado: [10, 20, 40, 50, 60] ... o valor 30 foi deletado da lista "
   ]
  },
  {
   "cell_type": "markdown",
   "metadata": {},
   "source": [
    "# Usando a função pop()\n",
    "\n",
    "    irá ser excluido o ultimo índice da lista"
   ]
  },
  {
   "cell_type": "code",
   "execution_count": null,
   "metadata": {},
   "outputs": [],
   "source": [
    "lista = [10, 20, 30, 40, 50, 60]\n",
    "lista.pop()\n",
    "print(lista)\n",
    "# resultado: [10, 20, 30, 40, 50] ... o valor 60 foi deletado da lista \n",
    "\n",
    "lista.pop(2) # excluiu o 30 da lista que é o índice 2\n",
    "print(lista) \n",
    "# resultado: [10, 20, 40, 50] "
   ]
  },
  {
   "cell_type": "markdown",
   "metadata": {},
   "source": [
    "# Limpando a lista com o método clear()"
   ]
  },
  {
   "cell_type": "code",
   "execution_count": null,
   "metadata": {},
   "outputs": [],
   "source": [
    "lista = [10, 20, 30, 40, 50, 60]\n",
    "lista.clear()\n",
    "print(lista)\n",
    "# resultado: [] todos os itens são excluídos"
   ]
  },
  {
   "cell_type": "markdown",
   "metadata": {},
   "source": [
    "# **Lista Aninhadas(tipo Matriz) - Lista dentro de Lista**"
   ]
  },
  {
   "cell_type": "code",
   "execution_count": null,
   "metadata": {},
   "outputs": [],
   "source": [
    "\n",
    "jogadores = [['Nilson','Mozart'], ['Felipe', 'Bila'], ['Dato', 'Jonathan','Vini Roque']]\n",
    "print(jogadores[2][0])\n",
    "# Resultado: Dato"
   ]
  },
  {
   "cell_type": "code",
   "execution_count": null,
   "metadata": {},
   "outputs": [],
   "source": [
    "\n",
    "jogadores = [['Nilson','Mozart'], ['Felipe', 'Bila'], ['Dato', 'Jonathan','Vini Roque']]\n",
    "for setor, valor in enumerate(jogadores):\n",
    "    print(setor, valor)\n",
    "# Resultado:    ['Nilson', 'Mozart']\n",
    "#               ['Felipe', 'Bila']\n",
    "#               ['Dato', 'Jonathan', 'Vini Roque']\n",
    "    for jogador, valor in enumerate(valor):\n",
    "        print(f'\\t{jogador, valor}')\n",
    "            \n",
    "# Resultado:    0 ['Nilson', 'Mozart']\n",
    "# \t                (0, 'Nilson')\n",
    "# \t                (1, 'Mozart')\n",
    "#               1 ['Felipe', 'Bila']\n",
    "# \t                (0, 'Felipe')\n",
    "# \t                (1, 'Bila')\n",
    "#               2 ['Dato', 'Jonathan', 'Vini Roque']\n",
    "# \t                (0, 'Dato')\n",
    "# \t                (1, 'Jonathan')\n",
    "# \t                (2, 'Vini Roque')"
   ]
  },
  {
   "cell_type": "markdown",
   "metadata": {},
   "source": [
    "# sort() - ordena uma lista \n",
    "    padrão do menor para o maior ou por ordem alfabética\n",
    "\n",
    "    para ser invertido é só usar \"reverse=True\""
   ]
  },
  {
   "cell_type": "code",
   "execution_count": null,
   "metadata": {},
   "outputs": [],
   "source": [
    "lista = [10, 500, 300, 1]\n",
    "print(f'sem sort = {lista}')\n",
    "# resultado:    sem sort = [10, 500, 300, 1]\n",
    "\n",
    "lista.sort()\n",
    "print(f'com sort = {lista}')\n",
    "# resultado:    com sort = [1, 10, 300, 500]\n",
    "\n",
    "lista2 = ['z', 'B', 'A', 'C']\n",
    "print(f'sem sort = {lista2}')\n",
    "# resultado:    sem sort = ['z', 'B', 'A', 'C']\n",
    "\n",
    "lista2.sort()\n",
    "print(f'com sort = {lista2}')\n",
    "# resultado:    com sort = ['A', 'B', 'C', 'z']"
   ]
  },
  {
   "cell_type": "markdown",
   "metadata": {},
   "source": [
    "# ***Indice somando com todos os elementos***\n"
   ]
  },
  {
   "cell_type": "markdown",
   "metadata": {},
   "source": [
    "## ***Minha Solução***"
   ]
  },
  {
   "cell_type": "code",
   "execution_count": null,
   "metadata": {},
   "outputs": [],
   "source": [
    "def somar_elementos_da_lista(lista):\n",
    "\n",
    "    for indice, valor in enumerate(lista):\n",
    "        for indice_2, numero in enumerate(lista):\n",
    "            try:\n",
    "                if valor == lista[indice_2+1]:\n",
    "                    continue\n",
    "                soma = valor + lista[indice_2+1]\n",
    "                if soma == soma_alvo:\n",
    "\n",
    "                    mensagem = f'A soma de \"({valor} e {lista[indice_2+1]})\", é igual a Soma alvo =>\"({soma_alvo})\"'\n",
    "                    return mensagem\n",
    "                else: \n",
    "                    continue\n",
    "            except:\n",
    "                continue\n",
    "    return 'Nehhum calculo é igual a Soma alvo'\n",
    "\n",
    "soma_alvo = 11\n",
    "lista = [3, 5, -4, 8, 11, 1, -2, 6]\n",
    "print(somar_elementos_da_lista(lista))"
   ]
  },
  {
   "cell_type": "markdown",
   "metadata": {},
   "source": [
    "## ***Solução GPT***"
   ]
  },
  {
   "cell_type": "code",
   "execution_count": null,
   "metadata": {},
   "outputs": [],
   "source": [
    "def somar_elementos_da_lista(lista, soma_alvo):\n",
    "    # Cria um conjunto para armazenar os complementos\n",
    "    complementos = set()\n",
    "    \n",
    "    for numero in lista:\n",
    "        complemento = soma_alvo - numero\n",
    "        # Verifica se o complemento já foi visto\n",
    "        if complemento in complementos:\n",
    "            mensagem = f'A soma de ({numero} e {complemento}) é igual à Soma alvo => ({soma_alvo})'\n",
    "            return mensagem\n",
    "        # Adiciona o número atual ao conjunto de complementos\n",
    "        complementos.add(numero)\n",
    "    \n",
    "    return 'Nenhum cálculo é igual à Soma alvo'\n",
    "\n",
    "soma_alvo = 11\n",
    "lista = [3, 5, -4, 8, 11, 1, -2, 6]\n",
    "print(somar_elementos_da_lista(lista, soma_alvo))"
   ]
  },
  {
   "cell_type": "markdown",
   "metadata": {},
   "source": [
    "`Melhorias da Solução GPT`\n",
    "\n",
    "Uso de Conjunto:\n",
    "* Utilizamos um conjunto (set) para armazenar os complementos necessários \n",
    "para alcançar a soma alvo. Isso permite verificar em tempo constante \n",
    "`𝑂(1)` se o complemento já foi visto.\n",
    "\n",
    "Eliminação do Segundo Loop:\n",
    "* Ao usar um conjunto, não precisamos de um segundo loop, o que reduz a complexidade de tempo de \n",
    "`𝑂(𝑛2) para 𝑂(𝑛).`\n",
    "\n",
    "Sem Exceções para Controle de Fluxo: \n",
    "*Eliminamos o uso de try e except para um fluxo de controle mais limpo e eficiente.\n",
    "\n",
    "Comentários e Legibilidade: \n",
    "* Usamos nomes de variáveis mais claros e adicionamos comentários para melhorar a legibilidade do código.\n"
   ]
  },
  {
   "cell_type": "markdown",
   "metadata": {},
   "source": []
  }
 ],
 "metadata": {
  "kernelspec": {
   "display_name": "Python 3",
   "language": "python",
   "name": "python3"
  },
  "language_info": {
   "codemirror_mode": {
    "name": "ipython",
    "version": 3
   },
   "file_extension": ".py",
   "mimetype": "text/x-python",
   "name": "python",
   "nbconvert_exporter": "python",
   "pygments_lexer": "ipython3",
   "version": "3.11.5"
  }
 },
 "nbformat": 4,
 "nbformat_minor": 2
}
