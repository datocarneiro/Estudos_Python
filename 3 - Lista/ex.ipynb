{
 "cells": [
  {
   "cell_type": "markdown",
   "metadata": {},
   "source": [
    "## ***Booble sort (ordenar lista que esta bagunçada)***\n",
    "\n",
    "ùtel para ordenar uma lista que esta bagunçada, e forma crescente ou decrescente\n",
    "\n",
    "`Explicação do Bubble Sort:`\n",
    "Para cada posição `i` na lista, percorremos a sublista que começa no início da lista e vai até `len(lista) - 1 - i`.\n",
    "\n",
    "Comparamos elementos adjacentes e trocamos se estiverem na ordem errada (ou seja, se o elemento à esquerda for maior que o elemento à direita).\n",
    "Repetimos o processo para cada posição na lista, movendo gradualmente o maior elemento para o final da lista a cada iteração.\n",
    "\n",
    "`Obs`\n",
    "\n",
    "para Crescenter usaR O OPERADOR `\">\"`\n",
    "\n",
    "para Decrescenter usaR O OPERADOR `\"<\"`"
   ]
  },
  {
   "cell_type": "code",
   "execution_count": null,
   "metadata": {},
   "outputs": [],
   "source": [
    "lista = [3, 9, 1, 6]\n",
    "print(\"Lista Não ordenada:\", lista)\n",
    "for i in range(len(lista)-1):\n",
    "    for j in range(len(lista)-1):\n",
    "        if lista[j] > lista[j+1]:\n",
    "            aux = lista[j]\n",
    "            lista[j] = lista[j+1]\n",
    "            lista[j+1] = aux\n",
    "print(\"Lista ordenada:\", lista)\n",
    "# Lista Não ordenada: [3, 9, 1, 6]\n",
    "# Lista ordenada: [1, 3, 6, 9]\n"
   ]
  },
  {
   "cell_type": "markdown",
   "metadata": {},
   "source": [
    "## ***Selection Sort***\n",
    "\n",
    "`Explicação do Selection Sort:`\n",
    "\n",
    "Para cada posição `i` na lista, encontramos o índice do menor elemento na sublista que começa em `i` e vai até o final.\n",
    "\n",
    "Trocamos o menor elemento encontrado com o elemento na posição `i`.\n",
    "\n",
    "Repetimos o processo para cada posição na lista, \n",
    "garantindo que a sublista à esquerda da posição `i` esteja sempre ordenada.\n",
    "\n",
    "`Obs`\n",
    "\n",
    "para Crescenter usaR O OPERADOR `\"<\"`\n",
    "\n",
    "para Decrescenter usaR O OPERADOR `\">\"`\n",
    "\n"
   ]
  },
  {
   "cell_type": "code",
   "execution_count": null,
   "metadata": {},
   "outputs": [],
   "source": [
    "lista = [3, 9, 1, 6]\n",
    "print(\"Lista Não ordenada:\", lista)\n",
    "# Algoritmo de ordenação Selection Sort\n",
    "for i in range(len(lista)):\n",
    "    menor_index = i\n",
    "    for j in range(i + 1, len(lista)):\n",
    "        if lista[j] > lista[menor_index]:\n",
    "            menor_index = j\n",
    "    # Trocar o menor elemento encontrado com o elemento na posição i\n",
    "    lista[i], lista[menor_index] = lista[menor_index], lista[i]\n",
    "\n",
    "print(\"Lista ordenada:\", lista)\n",
    "# Lista Não ordenada: [3, 9, 1, 6]\n",
    "# Lista ordenada: [1, 3, 6, 9]"
   ]
  }
 ],
 "metadata": {
  "kernelspec": {
   "display_name": "Python 3",
   "language": "python",
   "name": "python3"
  },
  "language_info": {
   "codemirror_mode": {
    "name": "ipython",
    "version": 3
   },
   "file_extension": ".py",
   "mimetype": "text/x-python",
   "name": "python",
   "nbconvert_exporter": "python",
   "pygments_lexer": "ipython3",
   "version": "3.11.5"
  }
 },
 "nbformat": 4,
 "nbformat_minor": 2
}
