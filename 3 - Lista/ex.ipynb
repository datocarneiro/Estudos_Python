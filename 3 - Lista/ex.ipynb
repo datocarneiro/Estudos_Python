{
 "cells": [
  {
   "cell_type": "markdown",
   "metadata": {},
   "source": [
    "## ***Booble sort (ordenar lista que esta bagunçada)***\n",
    "\n",
    "ùtel para ordenar uma lista que esta bagunçada, e forma crescente ou decrescente"
   ]
  },
  {
   "cell_type": "code",
   "execution_count": 203,
   "metadata": {},
   "outputs": [
    {
     "name": "stdout",
     "output_type": "stream",
     "text": [
      "[0, 2, 3, 4, 5, 6, 7, 8, 9, 100]\n"
     ]
    }
   ],
   "source": [
    "lista = [5, 9, 7, 100, 3 ,2 ,4, 6, 8, 0]\n",
    "for i in range(len(lista)-1):\n",
    "    for j in range(len(lista)-1):\n",
    "        if lista[j] > lista[j+1]:\n",
    "            # lista[j], lista[j+1] = lista[j+1], lista[j]\n",
    "            aux = lista[j]\n",
    "            lista[j] = lista[j+1]\n",
    "            lista[j+1] = aux\n",
    "print(lista)\n"
   ]
  },
  {
   "cell_type": "code",
   "execution_count": 204,
   "metadata": {},
   "outputs": [
    {
     "name": "stdout",
     "output_type": "stream",
     "text": [
      "[0, 1, 2, 3, 4, 5, 6, 7, 8, 100]\n"
     ]
    }
   ],
   "source": [
    "lista = [5, 1, 7, 100, 3 ]\n",
    "\n",
    "for i in range(len(lista)-1):\n",
    "    menor = lista[j]\n",
    "    for j in range(len(lista)-1):\n",
    "        if lista[j+1] < lista[j]:\n",
    "            aux = lista[j]\n",
    "            lista[j] = lista[j+1]\n",
    "            lista[j+1] = aux\n",
    "print(lista)\n",
    "\n"
   ]
  }
 ],
 "metadata": {
  "kernelspec": {
   "display_name": "Python 3",
   "language": "python",
   "name": "python3"
  },
  "language_info": {
   "codemirror_mode": {
    "name": "ipython",
    "version": 3
   },
   "file_extension": ".py",
   "mimetype": "text/x-python",
   "name": "python",
   "nbconvert_exporter": "python",
   "pygments_lexer": "ipython3",
   "version": "3.11.5"
  }
 },
 "nbformat": 4,
 "nbformat_minor": 2
}
