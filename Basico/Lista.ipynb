{
 "cells": [
  {
   "cell_type": "markdown",
   "metadata": {},
   "source": [
    " # **'''Listas em Python'''**\n",
    "    * são Mutável\n",
    "    * Suporta vários valores de qualquer tipo\n",
    "    * Conhecimentos reutilizáveis - índices e fatiamento\n",
    "    * Métodos úteis: append, insert, pop, del, clear, extend, +"
   ]
  },
  {
   "cell_type": "markdown",
   "metadata": {},
   "source": [
    "# **CRUD em Listas**\n",
    "        Create Read Update   Delete\n",
    "        Criar, ler, alterar, apagar = lista[i] (CRUD)\n",
    "        \n",
    "    Métodos úteis:\n",
    "        append, insert, pop, del, clear, extend, +\n",
    "    '''\n"
   ]
  },
  {
   "cell_type": "markdown",
   "metadata": {},
   "source": [
    "# **Criar**\n",
    "- Método list()\n",
    "- lista = []"
   ]
  },
  {
   "cell_type": "code",
   "execution_count": 29,
   "metadata": {},
   "outputs": [
    {
     "name": "stdout",
     "output_type": "stream",
     "text": [
      "['c', 'a', 'r', 'r', 'o']\n",
      "[1, 2, 3, 4, 5]\n"
     ]
    }
   ],
   "source": [
    "''' como corverter uma variavel em uma lista com a função list()'''\n",
    "variavel = 'carro'\n",
    "variavel2 = 1,2,3,4,5\n",
    "criando_lista = list(variavel)\n",
    "criando_lista2 = list(variavel2)\n",
    "print(criando_lista)\n",
    "print(criando_lista2)\n",
    "# resultado: ['c', 'a', 'r', 'r', 'o']\n",
    "# resultado: [1, 2, 3, 4, 5]"
   ]
  },
  {
   "cell_type": "code",
   "execution_count": 30,
   "metadata": {},
   "outputs": [
    {
     "name": "stdout",
     "output_type": "stream",
     "text": [
      "['carro']\n",
      "[(1, 2, 3, 4, 5)]\n"
     ]
    }
   ],
   "source": [
    "''' como corverter uma variavel em uma lista'''\n",
    "\n",
    "variavel = 'carro'\n",
    "variavel2 = 1,2,3,4,5\n",
    "criando_lista = [variavel]\n",
    "criando_lista2 = [variavel2]\n",
    "print(criando_lista)\n",
    "print(criando_lista2)\n",
    "# resultado: ['carro']\n",
    "# resultado:[(1, 2, 3, 4, 5)]"
   ]
  },
  {
   "cell_type": "markdown",
   "metadata": {},
   "source": [
    "# **Ler**"
   ]
  },
  {
   "cell_type": "code",
   "execution_count": null,
   "metadata": {},
   "outputs": [],
   "source": [
    "lista = [1, 2, 3, 4, 5, 6]\n",
    "\n",
    "ler = len(lista) # o método len() retorna a qtd de elementos que existe na lista\n",
    "print(ler) \n",
    "#resultado: 6\n",
    "\n",
    "ler_valor = lista[0] # lendo o conteúdo do indice 0\n",
    "print(ler_valor)\n",
    "# resultado: 1\n",
    "\n",
    "valor = 4\n",
    "if valor in lista:\n",
    "    print(f'Sim o {valor}, esta na lista')\n",
    "# resultado: Sim o 4, esta na lista"
   ]
  },
  {
   "cell_type": "markdown",
   "metadata": {},
   "source": [
    "# #Dica: retornando o índice dos elementos da lista ↓↓↓*\n",
    "\n",
    "# utilizando a função range()"
   ]
  },
  {
   "cell_type": "code",
   "execution_count": 30,
   "metadata": {},
   "outputs": [
    {
     "name": "stdout",
     "output_type": "stream",
     "text": [
      "0 Dato\n",
      "1 Daniel\n",
      "2 Gislaine\n",
      "3 10\n",
      "4 20\n",
      "5 30\n",
      "6 40\n",
      "7 50\n"
     ]
    }
   ],
   "source": [
    "lista = ['Dato', 'Daniel', 'Gislaine', 10, 20, 30, 40, 50]\n",
    "for i in range(len(lista)):\n",
    "    print(i, lista[i])\n",
    "\n",
    "# Resultado:  0 Dato\n",
    "#             1 Daniel\n",
    "#             2 Gislaine"
   ]
  },
  {
   "cell_type": "markdown",
   "metadata": {},
   "source": [
    "# Utilizando a função enumerate()"
   ]
  },
  {
   "cell_type": "markdown",
   "metadata": {},
   "source": []
  },
  {
   "cell_type": "code",
   "execution_count": 28,
   "metadata": {},
   "outputs": [
    {
     "name": "stdout",
     "output_type": "stream",
     "text": [
      "(0, 'Zec')\n",
      "(1, 'Daniel')\n",
      "(2, 'Gislaine')\n",
      "0 Zec\n",
      "1 Daniel\n",
      "2 Gislaine\n",
      "2 Zec\n",
      "2 Daniel\n",
      "2 Gislaine\n"
     ]
    }
   ],
   "source": [
    "lista = ['Zec', 'Daniel', 'Gislaine']\n",
    "# para cada indice e valor na minha lista enumerada\n",
    "for indice in enumerate(lista): \n",
    "    print(indice)\n",
    "# Resultado: (0, 'Zec')\n",
    "#            (1, 'Daniel')\n",
    "#            (2, 'Gislaine')\n",
    "    \n",
    "for indice, valor in enumerate(lista): \n",
    "    print(indice, valor)\n",
    "# Resultado:  0 Zec\n",
    "#             1 Daniel\n",
    "#             2 Gislaine\n",
    "    \n",
    "for iindice, valor in enumerate(lista, start = 20): # com o argumento start posso definir o indicial inicial\n",
    "    print(indice, valor)\n",
    "# Resultado:    20 Zec\n",
    "#               21 Daniel\n",
    "#               22 Gislaine"
   ]
  },
  {
   "cell_type": "markdown",
   "metadata": {},
   "source": [
    "# **Alterar valores indicando índice**"
   ]
  },
  {
   "cell_type": "code",
   "execution_count": 32,
   "metadata": {},
   "outputs": [
    {
     "name": "stdout",
     "output_type": "stream",
     "text": [
      "[10, 'abc', 30, 40, 50, 60]\n"
     ]
    }
   ],
   "source": [
    "lista = [10, 20, 30, 40, 50, 60]\n",
    "lista[1] = \"abc\"\n",
    "print(lista)\n",
    "# resultado: [10, 'abc', 30, 40, 50, 60]"
   ]
  },
  {
   "cell_type": "markdown",
   "metadata": {},
   "source": [
    "# **Adicionar**"
   ]
  },
  {
   "cell_type": "markdown",
   "metadata": {},
   "source": [
    "# Usando o método append()\n",
    "    será adicionado o valor sempre ao final da lista"
   ]
  },
  {
   "cell_type": "code",
   "execution_count": 33,
   "metadata": {},
   "outputs": [
    {
     "name": "stdout",
     "output_type": "stream",
     "text": [
      "[10, 20, 30, 40, 50, 60, 100, 1]\n"
     ]
    }
   ],
   "source": [
    "lista = [10, 20, 30, 40, 50, 60]\n",
    "lista.append(100)\n",
    "lista.append(1)\n",
    "print(lista)\n",
    "# resultado: [10, 20, 30, 40, 50, 60, 100, 1]"
   ]
  },
  {
   "cell_type": "markdown",
   "metadata": {},
   "source": [
    "# Usando o método insert()\n",
    "    Adiciona um item no índice escolhido\n",
    "    passando 2 argumento (0, \"ABC\"), o primeiro para o índice, e o segundo será o valor"
   ]
  },
  {
   "cell_type": "code",
   "execution_count": 34,
   "metadata": {},
   "outputs": [
    {
     "name": "stdout",
     "output_type": "stream",
     "text": [
      "['ABC', 10, 20, 30]\n"
     ]
    }
   ],
   "source": [
    "lista = [10, 20, 30]\n",
    "lista.insert(0, 'ABC')\n",
    "print(lista)\n",
    "# resultado: ['ABC', 10, 20, 30]"
   ]
  },
  {
   "cell_type": "markdown",
   "metadata": {},
   "source": [
    "# Usando o operador \"+\" para concatenar listas"
   ]
  },
  {
   "cell_type": "code",
   "execution_count": 35,
   "metadata": {},
   "outputs": [
    {
     "name": "stdout",
     "output_type": "stream",
     "text": [
      "[10, 20, 30, 'A', 'B', 'C']\n"
     ]
    }
   ],
   "source": [
    "lista1 = [10, 20, 30]\n",
    "lista2 = ['A', 'B', 'C']\n",
    "lista3 = lista1 + lista2\n",
    "print(lista3)\n",
    "# resultado: [10, 20, 30, 'A', 'B', 'C']"
   ]
  },
  {
   "cell_type": "markdown",
   "metadata": {},
   "source": [
    "# Usando o método extend()"
   ]
  },
  {
   "cell_type": "markdown",
   "metadata": {},
   "source": []
  },
  {
   "cell_type": "code",
   "execution_count": 36,
   "metadata": {},
   "outputs": [
    {
     "name": "stdout",
     "output_type": "stream",
     "text": [
      "lista 1 , sem alteração = [10, 20, 30]\n",
      "lista 1 , com alteração, lista 1 adiciona dados da lista 2 = [10, 20, 30, 'A', 'B', 'C']\n",
      "lista 2 , com alteração, lista 2 adiciona dados da lista 1 = ['A', 'B', 'C', 10, 20, 30, 'A', 'B', 'C']\n",
      "lista 3 = None\n"
     ]
    }
   ],
   "source": [
    "lista1 = [10, 20, 30]\n",
    "lista2 = ['A', 'B', 'C']\n",
    "\n",
    "print(f'lista 1 , sem alteração = {lista1}')\n",
    "# resultado: lista 1 , sem alteração = [10, 20, 30]\n",
    "\n",
    "lista3 = lista1.extend(lista2)\n",
    "print(f'lista 1 , com alteração, lista 1 adiciona dados da lista 2 = {lista1}')\n",
    "# resultado: \n",
    "\n",
    "lista3 = lista2.extend(lista1)\n",
    "print(f'lista 2 , com alteração, lista 2 adiciona dados da lista 1 = {lista2}')\n",
    "# resultado: \n",
    "\n",
    "print(f'lista 3 = {lista3}')\n",
    "\n",
    "# resultado: [10, 20, 30, 'A', 'B', 'C']"
   ]
  },
  {
   "cell_type": "markdown",
   "metadata": {},
   "source": [
    "# **Delete**"
   ]
  },
  {
   "cell_type": "markdown",
   "metadata": {},
   "source": [
    "# Usando a instrução del\n",
    "    Recomendado excluir somente do final da lista, pois ao deletar a lista inteira será reorganizada \n",
    "    Ex: uma lista com 1000 indice, se excluirmos o segundo será reorganizado 998 elementos"
   ]
  },
  {
   "cell_type": "code",
   "execution_count": 37,
   "metadata": {},
   "outputs": [
    {
     "name": "stdout",
     "output_type": "stream",
     "text": [
      "[10, 20, 40, 50, 60]\n"
     ]
    }
   ],
   "source": [
    "\n",
    "lista = [10, 20, 30, 40, 50, 60]\n",
    "del lista[2] # aqui passamos o índice\n",
    "print(lista) \n",
    "# resultado: [10, 20, 40, 50, 60] ... o valor 30 foi deletado da lista "
   ]
  },
  {
   "cell_type": "markdown",
   "metadata": {},
   "source": [
    "# Usando a função pop()\n",
    "\n",
    "    irá ser excluido o ultimo índice da lista"
   ]
  },
  {
   "cell_type": "code",
   "execution_count": 38,
   "metadata": {},
   "outputs": [
    {
     "name": "stdout",
     "output_type": "stream",
     "text": [
      "[10, 20, 30, 40, 50]\n",
      "[10, 20, 40, 50]\n"
     ]
    }
   ],
   "source": [
    "lista = [10, 20, 30, 40, 50, 60]\n",
    "lista.pop()\n",
    "print(lista)\n",
    "# resultado: [10, 20, 30, 40, 50] ... o valor 60 foi deletado da lista \n",
    "\n",
    "lista.pop(2) # excluiu o 30 da lista que é o índice 2\n",
    "print(lista) \n",
    "# resultado: [10, 20, 40, 50] "
   ]
  },
  {
   "cell_type": "markdown",
   "metadata": {},
   "source": [
    "# Limpando a lista com o método clear()"
   ]
  },
  {
   "cell_type": "code",
   "execution_count": 39,
   "metadata": {},
   "outputs": [
    {
     "name": "stdout",
     "output_type": "stream",
     "text": [
      "[]\n"
     ]
    }
   ],
   "source": [
    "lista = [10, 20, 30, 40, 50, 60]\n",
    "lista.clear()\n",
    "print(lista)\n",
    "# resultado: [] todos os itens são excluídos"
   ]
  }
 ],
 "metadata": {
  "kernelspec": {
   "display_name": "Python 3",
   "language": "python",
   "name": "python3"
  },
  "language_info": {
   "codemirror_mode": {
    "name": "ipython",
    "version": 3
   },
   "file_extension": ".py",
   "mimetype": "text/x-python",
   "name": "python",
   "nbconvert_exporter": "python",
   "pygments_lexer": "ipython3",
   "version": "3.11.5"
  }
 },
 "nbformat": 4,
 "nbformat_minor": 2
}
