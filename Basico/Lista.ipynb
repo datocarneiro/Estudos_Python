{
 "cells": [
  {
   "cell_type": "markdown",
   "metadata": {},
   "source": [
    " # **'''Listas em Python'''**\n",
    "    * são Mutável\n",
    "    * Suporta vários valores de qualquer tipo\n",
    "    * Conhecimentos reutilizáveis - índices e fatiamento\n",
    "    * Métodos úteis: append, insert, pop, del, clear, extend, +"
   ]
  },
  {
   "cell_type": "markdown",
   "metadata": {},
   "source": [
    "# ***CRUD em Listas***\n",
    "        Create Read Update   Delete\n",
    "        Criar, ler, alterar, apagar = lista[i] (CRUD)\n",
    "        \n",
    "    Métodos úteis:\n",
    "        append, insert, pop, del, clear, extend, +\n",
    "    '''\n"
   ]
  },
  {
   "cell_type": "markdown",
   "metadata": {},
   "source": [
    "# **Criar**\n",
    "- Método list()\n",
    "- lista = []"
   ]
  },
  {
   "cell_type": "code",
   "execution_count": null,
   "metadata": {},
   "outputs": [],
   "source": [
    "''' como corverter uma variavel em uma lista com a função list()'''\n",
    "variavel = 'carro'\n",
    "variavel2 = 1,2,3,4,5\n",
    "criando_lista = list(variavel)\n",
    "criando_lista2 = list(variavel2)\n",
    "print(criando_lista)\n",
    "print(criando_lista2)\n",
    "# resultado: ['c', 'a', 'r', 'r', 'o']\n",
    "# resultado: [1, 2, 3, 4, 5]"
   ]
  },
  {
   "cell_type": "code",
   "execution_count": null,
   "metadata": {},
   "outputs": [],
   "source": [
    "''' como corverter uma variavel em uma lista'''\n",
    "variavel = 'carro'\n",
    "variavel2 = 1,2,3,4,5\n",
    "criando_lista = [variavel]\n",
    "criando_lista2 = [variavel2]\n",
    "print(criando_lista)\n",
    "print(criando_lista2)\n",
    "# resultado: ['carro']\n",
    "# resultado:[(1, 2, 3, 4, 5)]"
   ]
  },
  {
   "cell_type": "markdown",
   "metadata": {},
   "source": [
    "# **Ler**"
   ]
  },
  {
   "cell_type": "code",
   "execution_count": null,
   "metadata": {},
   "outputs": [],
   "source": [
    "lista = [1, 2, 3, 4, 5, 6]\n",
    "ler = len(lista) # o método len() retorna a qtd de elementos da lista\n",
    "print(ler) \n",
    "# resultado: 6"
   ]
  },
  {
   "cell_type": "markdown",
   "metadata": {},
   "source": [
    "# **Alterar valores indicando índice**"
   ]
  },
  {
   "cell_type": "code",
   "execution_count": null,
   "metadata": {},
   "outputs": [],
   "source": [
    "lista = [10, 20, 30, 40, 50, 60]\n",
    "lista[1] = \"abc\"\n",
    "print(lista)\n",
    "# resultado: [10, 'abc', 30, 40, 50, 60]"
   ]
  },
  {
   "cell_type": "markdown",
   "metadata": {},
   "source": [
    "# ***Delete***"
   ]
  },
  {
   "cell_type": "markdown",
   "metadata": {},
   "source": [
    "# Usando a instrução del\n",
    "    Recomendado excluir somente do final da lista, pois ao deletar a lista inteira será reorganizada \n",
    "    Ex: uma lista com 1000 indice, se excluirmos o segundo será reorganizado 998 elementos"
   ]
  },
  {
   "cell_type": "code",
   "execution_count": null,
   "metadata": {},
   "outputs": [],
   "source": [
    "\n",
    "lista = [10, 20, 30, 40, 50, 60]\n",
    "del lista[2] # aqui passamos o índice\n",
    "print(lista) \n",
    "# resultado: [10, 20, 40, 50, 60] ... o valor 30 foi deletado da lista "
   ]
  },
  {
   "cell_type": "markdown",
   "metadata": {},
   "source": [
    "# Usando a função pop()\n",
    "\n",
    "    irá ser excluido o ultimo índice da lista"
   ]
  },
  {
   "cell_type": "code",
   "execution_count": null,
   "metadata": {},
   "outputs": [],
   "source": [
    "lista = [10, 20, 30, 40, 50, 60]\n",
    "lista.pop()\n",
    "print(lista)\n",
    "# resultado: [10, 20, 30, 40, 50] ... o valor 60 foi deletado da lista "
   ]
  },
  {
   "cell_type": "markdown",
   "metadata": {},
   "source": [
    "# ***Ad"
   ]
  }
 ],
 "metadata": {
  "kernelspec": {
   "display_name": "Python 3",
   "language": "python",
   "name": "python3"
  },
  "language_info": {
   "codemirror_mode": {
    "name": "ipython",
    "version": 3
   },
   "file_extension": ".py",
   "mimetype": "text/x-python",
   "name": "python",
   "nbconvert_exporter": "python",
   "pygments_lexer": "ipython3",
   "version": "3.11.5"
  }
 },
 "nbformat": 4,
 "nbformat_minor": 2
}
