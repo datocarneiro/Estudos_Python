{
 "cells": [
  {
   "cell_type": "markdown",
   "metadata": {},
   "source": [
    " # ***'''Listas em Python'''***\n",
    "    * são Mutável\n",
    "    * Suporta vários valores de qualquer tipo\n",
    "    * Conhecimentos reutilizáveis - índices e fatiamento\n",
    "    * Métodos úteis: append, insert, pop, del, clear, extend, +"
   ]
  },
  {
   "cell_type": "code",
   "execution_count": 1,
   "metadata": {},
   "outputs": [
    {
     "name": "stdout",
     "output_type": "stream",
     "text": [
      "['c', 'a', 'r', 'r', 'o']\n",
      "[1, 2, 3, 4, 5]\n"
     ]
    }
   ],
   "source": [
    "''' como corverter uma variavel em uma lista com a função list()'''\n",
    "variavel = 'carro'\n",
    "variavel2 = 1,2,3,4,5\n",
    "criando_lista = list(variavel)\n",
    "criando_lista2 = list(variavel2)\n",
    "print(criando_lista)\n",
    "print(criando_lista2)\n",
    "# resultado: ['c', 'a', 'r', 'r', 'o']\n",
    "# resultado: [1, 2, 3, 4, 5]"
   ]
  },
  {
   "cell_type": "code",
   "execution_count": 2,
   "metadata": {},
   "outputs": [
    {
     "name": "stdout",
     "output_type": "stream",
     "text": [
      "['carro']\n",
      "[(1, 2, 3, 4, 5)]\n"
     ]
    }
   ],
   "source": [
    "''' como corverter uma variavel em uma lista'''\n",
    "variavel = 'carro'\n",
    "variavel2 = 1,2,3,4,5\n",
    "criando_lista = [variavel]\n",
    "criando_lista2 = [variavel2]\n",
    "print(criando_lista)\n",
    "print(criando_lista2)\n",
    "# resultado: ['carro']\n",
    "# resultado:[(1, 2, 3, 4, 5)]"
   ]
  }
 ],
 "metadata": {
  "kernelspec": {
   "display_name": "Python 3",
   "language": "python",
   "name": "python3"
  },
  "language_info": {
   "codemirror_mode": {
    "name": "ipython",
    "version": 3
   },
   "file_extension": ".py",
   "mimetype": "text/x-python",
   "name": "python",
   "nbconvert_exporter": "python",
   "pygments_lexer": "ipython3",
   "version": "3.11.5"
  }
 },
 "nbformat": 4,
 "nbformat_minor": 2
}
