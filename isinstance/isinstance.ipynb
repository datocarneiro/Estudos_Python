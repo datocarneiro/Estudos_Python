{
 "cells": [
  {
   "cell_type": "markdown",
   "metadata": {},
   "source": [
    "# função isinstance()\n",
    "\n",
    "leitura: `'È instancia de'...tipo do dado`\n",
    "\n",
    "```python\n",
    "x = 1 \n",
    "print(isinstance(x, int))\n",
    "resultado: True\n",
    "```\n",
    "\n",
    "A função isinstance() em Python é usada para `verificar se um objeto é uma instância de um determinado tipo de dados`. Seu uso é mais amplo do que apenas verificar se um objeto é uma instância de uma classe específica;\n",
    "\n",
    "também pode ser usado para `verificar se um objeto é uma instância de um tipo de dados básico, como int, str, list, etc.`\n",
    "\n",
    "Por exemplo, você pode usá-lo para garantir que uma variável contém um determinado tipo de dado antes de realizar operações com ela. Isso ajuda a evitar erros de tipo durante a execução do código.\n",
    "\n",
    "Aqui está um exemplo simples:"
   ]
  },
  {
   "cell_type": "code",
   "execution_count": null,
   "metadata": {},
   "outputs": [],
   "source": [
    "x = 10\n",
    "\n",
    "if isinstance(x, int):\n",
    "    print(\"x é um inteiro.\")\n",
    "else:\n",
    "    print(\"x não é um inteiro.\")\n",
    "\n",
    "# resultado: x é um inteiro."
   ]
  },
  {
   "cell_type": "code",
   "execution_count": null,
   "metadata": {},
   "outputs": [],
   "source": [
    "x = '1'\n",
    "\n",
    "if isinstance(x, int):\n",
    "    print(\"x é um inteiro.\")\n",
    "else:\n",
    "    print(\"x não é um inteiro.\")\n",
    "\n",
    "# resultado: x não é um inteiro."
   ]
  },
  {
   "cell_type": "code",
   "execution_count": null,
   "metadata": {},
   "outputs": [],
   "source": [
    "x = '1'\n",
    "\n",
    "if isinstance(x, str):\n",
    "    print(\"x é uma string.\")\n",
    "else:\n",
    "    print(\"x não é uma string.\")\n",
    "\n",
    "# resultado: x é uma string."
   ]
  },
  {
   "cell_type": "markdown",
   "metadata": {},
   "source": [
    "podemos verificar no contexto de classe \n",
    "\n",
    "leitura: `'È instancia de' ...nome da classe`"
   ]
  }
 ],
 "metadata": {
  "kernelspec": {
   "display_name": "Python 3",
   "language": "python",
   "name": "python3"
  },
  "language_info": {
   "codemirror_mode": {
    "name": "ipython",
    "version": 3
   },
   "file_extension": ".py",
   "mimetype": "text/x-python",
   "name": "python",
   "nbconvert_exporter": "python",
   "pygments_lexer": "ipython3",
   "version": "3.11.5"
  }
 },
 "nbformat": 4,
 "nbformat_minor": 2
}
