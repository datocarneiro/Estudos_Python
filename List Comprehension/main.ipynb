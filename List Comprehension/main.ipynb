{
 "cells": [
  {
   "cell_type": "markdown",
   "metadata": {},
   "source": [
    "# ***Lista comprehension***\n",
    "\n",
    "## é uma forma rápida de criar lista a partir de iteráveis"
   ]
  },
  {
   "cell_type": "markdown",
   "metadata": {},
   "source": [
    "### Forma comum que geralmente se cria uma lista por um iteravel sem list comprehension"
   ]
  },
  {
   "cell_type": "code",
   "execution_count": null,
   "metadata": {},
   "outputs": [],
   "source": [
    "lista = []; \n",
    "for i in range(10):\n",
    "    lista.append(i)\n",
    "print(lista)\n",
    "# resultado: [0, 1, 2, 3, 4, 5, 6, 7, 8, 9]"
   ]
  },
  {
   "cell_type": "markdown",
   "metadata": {},
   "source": [
    "### Criando a mesma lista com LIST COMPREHENSION"
   ]
  },
  {
   "cell_type": "code",
   "execution_count": null,
   "metadata": {},
   "outputs": [],
   "source": [
    "lista = [numero for numero in range(10)]  # Forma de leitura: inclua \"numero\" para cada \"numero\" interado em range(10)\n",
    "print(lista)\n",
    "#resultado: [0, 1, 2, 3, 4, 5, 6, 7, 8, 9]"
   ]
  },
  {
   "cell_type": "code",
   "execution_count": null,
   "metadata": {},
   "outputs": [],
   "source": [
    "lista = [\"a\" for numero in range(10)]  # Forma de leitura: inclua \"a\" para cada \"numero\" interado em range(10)\n",
    "print(lista)\n",
    "#resultado: ['a', 'a', 'a', 'a', 'a', 'a', 'a', 'a', 'a', 'a']"
   ]
  },
  {
   "cell_type": "markdown",
   "metadata": {},
   "source": [
    "### É possivel fazer operações tambem "
   ]
  },
  {
   "cell_type": "markdown",
   "metadata": {},
   "source": [
    "    # Nota = ciudados com operações complexas , lembrando que se o  codigo esta complexo não é o melhor jeito"
   ]
  },
  {
   "cell_type": "code",
   "execution_count": null,
   "metadata": {},
   "outputs": [],
   "source": [
    "lista = [numero * 2 for numero in range(3)]\n",
    "print(lista)\n",
    "#resultado: [0, 2, 4]"
   ]
  },
  {
   "cell_type": "markdown",
   "metadata": {},
   "source": [
    "### for dentrode for com list comprehension"
   ]
  },
  {
   "cell_type": "markdown",
   "metadata": {},
   "source": [
    "#### forma comum"
   ]
  },
  {
   "cell_type": "code",
   "execution_count": null,
   "metadata": {},
   "outputs": [],
   "source": [
    "lista = []\n",
    "for x in range(2):\n",
    "    for y in range(2):\n",
    "        lista.append((x, y))\n",
    "print(lista)\n",
    "# resultado: [(0, 0), (0, 1), (1, 0), (1, 1)]"
   ]
  },
  {
   "cell_type": "markdown",
   "metadata": {},
   "source": [
    "#### com list comprehensiom"
   ]
  },
  {
   "cell_type": "code",
   "execution_count": null,
   "metadata": {},
   "outputs": [],
   "source": [
    "lista = [(x, y)for x in range(2)for y in range(2)]\n",
    "print(lista)\n",
    "# resultado: [(0, 0), (0, 1), (1, 0), (1, 1)]"
   ]
  },
  {
   "cell_type": "markdown",
   "metadata": {},
   "source": [
    "### Mapeando dados em list comprehension\n",
    "\n",
    "só relembrando mapeamento basicamente é uma copia para outra lista, mas com a mesma qtd de indices na nvoa lista"
   ]
  },
  {
   "cell_type": "markdown",
   "metadata": {},
   "source": [
    "    # Nota = cuidados com operações complexas , lembrando que se o  codigo esta complexo não é o melhor jeito"
   ]
  },
  {
   "cell_type": "markdown",
   "metadata": {},
   "source": [
    "Este código em Python utiliza uma list comprehension para fazer um mapeamento nos dados contidos na lista `numeros`. Vamos explicar linha por linha:\n",
    "\n",
    "1. `numeros = [1, 2, 3]`: Define uma lista de números chamada `numeros`.\n",
    "\n",
    "2. `novos_produtos = [...]`: Inicia uma list comprehension para criar uma nova lista chamada `novos_produtos`. Esta lista será uma versão modificada da lista `numeros`.\n",
    "\n",
    "3. `numero * 10 if numero == 2 else numero`: Esta é uma expressão condicional dentro da list comprehension. Se o número atual (`numero`) for igual a 2, ele será multiplicado por 10 (`numero * 10`). Caso contrário, o número permanecerá o mesmo (`numero`). Esta é a lógica de mapeamento que está sendo aplicada aos elementos da lista.\n",
    "\n",
    "4. `for numero in numeros`: Itera sobre cada número na lista `numeros`.\n",
    "\n",
    "5. `print(novos_produtos)`: Imprime a lista `novos_produtos`.\n",
    "\n",
    "Então, o código final cria uma nova lista chamada `novos_produtos`, onde o número 2 é multiplicado por 10 e os outros números permanecem inalterados. O resultado impresso é `[1, 20, 3]`, que é a nova lista resultante após o mapeamento."
   ]
  },
  {
   "cell_type": "code",
   "execution_count": null,
   "metadata": {},
   "outputs": [],
   "source": [
    "# Mapeamento de dados em list comprehension\n",
    "numeros = [ 1, 2 , 3]\n",
    "novos_produtos = [numero * 10  if numero == 2 else numero for numero in numeros]\n",
    "\n",
    "print(novos_produtos)\n",
    "# Resultado:  [1, 20, 3]"
   ]
  },
  {
   "cell_type": "markdown",
   "metadata": {},
   "source": [
    "### Filtrando dados com Lista comprehension"
   ]
  },
  {
   "cell_type": "markdown",
   "metadata": {},
   "source": [
    "relembrando a nova copia tera indices/elementos filtrados, diferente do mapeamento \n",
    "\n",
    "    diferença principal que a condição vem depois do for "
   ]
  },
  {
   "cell_type": "markdown",
   "metadata": {},
   "source": [
    "o Código utiliza  uma list comprehension com uma condição.\n",
    "\n",
    "Vamos corrigir a explicação:\n",
    "\n",
    "1. `numeros = [1, 2, 3]`: Define uma lista de números chamada `numeros`.\n",
    "\n",
    "2. `novos_produtos = [...]`: Inicia uma list comprehension para criar uma nova lista chamada `novos_produtos`. Esta lista será uma versão modificada da lista `numeros`.\n",
    "\n",
    "3. `numero * 10 for numero in numeros if numero == 2`: Esta é uma expressão de list comprehension que inclui uma condição (`if numero == 2`). Isso significa que apenas os elementos da lista `numeros` que satisfazem a condição `numero == 2` serão considerados para a transformação (`numero * 10`). Ou seja, somente o número 2 satisfaz essa condição.\n",
    "\n",
    "4. `for numero in numeros`: Itera sobre cada número na lista `numeros`.\n",
    "\n",
    "5. `print(novos_produtos)`: Imprime a lista `novos_produtos`.\n",
    "\n",
    "Portanto, a principal diferença em relação ao código que utilizava a função `map` é que esta list comprehension apenas seleciona os elementos da lista original que satisfazem uma determinada condição antes de aplicar a transformação. Como resultado, apenas o número 2 é selecionado (porque é o único que satisfaz a condição `if numero == 2`) e então multiplicado por 10. O resultado impresso é `[20]`."
   ]
  },
  {
   "cell_type": "code",
   "execution_count": 91,
   "metadata": {},
   "outputs": [
    {
     "name": "stdout",
     "output_type": "stream",
     "text": [
      "[20]\n"
     ]
    }
   ],
   "source": [
    "# filter  de dados em list comprehension\n",
    "numeros = [ 1, 2 , 3]\n",
    "novos_produtos = [numero * 10  for numero in numeros if numero == 2]\n",
    "\n",
    "print(novos_produtos)\n",
    "# Resultado:  [20]\n"
   ]
  },
  {
   "cell_type": "markdown",
   "metadata": {},
   "source": [
    "O código que você forneceu realiza uma operação em uma lista de dicionários que representam produtos. Ele aumenta o preço dos produtos cujo preço é inferior a 10 em 10%. Aqui está uma explicação linha por linha:\n",
    "\n",
    "```python\n",
    "produtos = [\n",
    "    {'nome': 'feijão', 'preço': 10},\n",
    "    {'nome': 'Arroz', 'preço': 20},\n",
    "    {'nome': 'café', 'preço': 5}\n",
    "]\n",
    "```\n",
    "- Define uma lista de dicionários chamada `produtos`. Cada dicionário contém informações sobre um produto, incluindo seu nome e preço.\n",
    "\n",
    "```python\n",
    "novo_preco = [{**produto, 'preço': produto['preço']*1.1} if produto['preço'] < 10 else {**produto} for produto in produtos]\n",
    "```\n",
    "- Usa uma list comprehension para iterar sobre cada produto na lista `produtos`.\n",
    "- Para cada produto, verifica se o preço (`produto['preço']`) é inferior a 10.\n",
    "    - Se for, cria um novo dicionário com o mesmo nome (`'nome'`) e um preço aumentado em 10% (`'preço': produto['preço']*1.1`).\n",
    "    - Caso contrário, mantém o mesmo dicionário de produto.\n",
    "- Armazena todos esses dicionários (os originais ou os modificados) em uma nova lista chamada `novo_preco`.\n",
    "\n",
    "```python\n",
    "print(*novo_preco, sep='\\n')\n",
    "```\n",
    "- Imprime os produtos com seus novos preços. O `*novo_preco` descompacta a lista de dicionários, e `sep='\\n'` define o separador como uma nova linha para que cada dicionário seja impresso em uma linha separada.\n",
    "\n",
    "Desta forma, os produtos que tiveram seus preços aumentados em 10% são impressos com seus novos preços, enquanto os outros produtos mantêm o mesmo preço.\n",
    "\n",
    "\n",
    "teste `teste`"
   ]
  },
  {
   "cell_type": "code",
   "execution_count": null,
   "metadata": {},
   "outputs": [],
   "source": [
    "produtos = [\n",
    "    {'nome': 'feijão', 'preço': 10},\n",
    "    {'nome': 'Arroz', 'preço': 20},\n",
    "    {'nome': 'café', 'preço': 5}\n",
    "]\n",
    "\n",
    "\n",
    "novo_preco = [{**produto, 'preço': produto['preço']*1.1} if produto['preço'] < 10 else {**produto} for produto in produtos]\n",
    "\n",
    "print(*novo_preco, sep='\\n')\n",
    "\n",
    "# resultado:    {'nome': 'feijão', 'preço': 10}\n",
    "#               {'nome': 'Arroz', 'preço': 20}\n",
    "#               {'nome': 'café', 'preço': 5.5}      valor de café teve ajuste de 10% do valor inicial"
   ]
  }
 ],
 "metadata": {
  "kernelspec": {
   "display_name": "Python 3",
   "language": "python",
   "name": "python3"
  },
  "language_info": {
   "codemirror_mode": {
    "name": "ipython",
    "version": 3
   },
   "file_extension": ".py",
   "mimetype": "text/x-python",
   "name": "python",
   "nbconvert_exporter": "python",
   "pygments_lexer": "ipython3",
   "version": "3.11.5"
  }
 },
 "nbformat": 4,
 "nbformat_minor": 2
}
