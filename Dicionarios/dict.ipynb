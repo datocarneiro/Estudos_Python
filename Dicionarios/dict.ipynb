{
 "cells": [
  {
   "cell_type": "markdown",
   "metadata": {},
   "source": [
    "# **Dicionarios**\n",
    "    Dicionários são estruturas de dados do tipo par de \"chave\" e \"valor\".\n",
    "\n",
    "    CHAVES - podem ser consideradas como o \"índice\", e podem ser de tipos imutáveis como: str, int, float, bool, tuple, etc.\n",
    "    VALOR - pode ser de qualquer tipo, incluindo outro dicionário.\n",
    "\n",
    "    Usamos as chaves - {} - ou a classe dict para criardicionários.\n",
    "        Imutáveis: str, int, float, bool, tuple\n",
    "        Mutável: dict, list"
   ]
  },
  {
   "cell_type": "markdown",
   "metadata": {},
   "source": [
    "**Exemplo da  estrutura:**"
   ]
  },
  {
   "cell_type": "code",
   "execution_count": null,
   "metadata": {},
   "outputs": [],
   "source": [
    "# EXEMPLO:\n",
    "pessoa = {\n",
    "    'nome': 'Dato',\n",
    "    'sobrenome': 'Carneiro',\n",
    "    'idade': 18,\n",
    "    'altura': 1.8,\n",
    "    'endereços': [\n",
    "        {'rua': 'A ultima do bairro', 'número': 1000},\n",
    "        {'rua': 'outra Rua', 'número': 1},\n",
    "    ]\n",
    "}\n",
    "print(pessoa)\n",
    "# Resultados: {'nome': 'Dato', 'sobrenome': 'Carneiro', 'idade': 18, 'altura': 1.8, 'endereços': [{'rua': 'A ultima do bairro', 'número': 1000}, {'rua': 'outra Rua', 'número': 1}]}"
   ]
  },
  {
   "cell_type": "markdown",
   "metadata": {},
   "source": [
    "**Exemplo da estrutura com a class dict()**"
   ]
  },
  {
   "cell_type": "code",
   "execution_count": null,
   "metadata": {},
   "outputs": [],
   "source": [
    "pessoa = dict(nome='Dato', sobrenome='Carneiro')\n",
    "print(pessoa)\n",
    "# Resultados: {'nome': 'Dato', 'sobrenome': 'Carneiro'}"
   ]
  },
  {
   "cell_type": "markdown",
   "metadata": {},
   "source": [
    "# **Adicionar dados á um dicionario**"
   ]
  },
  {
   "cell_type": "markdown",
   "metadata": {},
   "source": [
    "**Adicionando com o sinal de atribuição \" = \"**"
   ]
  },
  {
   "cell_type": "code",
   "execution_count": null,
   "metadata": {},
   "outputs": [],
   "source": [
    "dados = {}\n",
    "print(dados)\n",
    "\n",
    "dados['nome'] = 'Dato Carneiro'\n",
    "print(dados)\n",
    "# Resultado:    {'nome': 'Dato Carneiro'}"
   ]
  },
  {
   "cell_type": "markdown",
   "metadata": {},
   "source": [
    "# Acessando dados do dicionário"
   ]
  },
  {
   "cell_type": "code",
   "execution_count": null,
   "metadata": {},
   "outputs": [],
   "source": [
    "# EXEMPLO:\n",
    "pessoa = {\n",
    "    'nome': 'Dato',\n",
    "    'sobrenome': 'Carneiro',\n",
    "    'idade': 18,\n",
    "    'altura': 1.8,\n",
    "    'endereços': [\n",
    "        {'rua': 'A ultima do bairro', 'número': 1000},\n",
    "        {'rua': 'outra Rua', 'número': 1},\n",
    "    ]\n",
    "}"
   ]
  },
  {
   "cell_type": "markdown",
   "metadata": {},
   "source": [
    "**Passando a chave** "
   ]
  },
  {
   "cell_type": "code",
   "execution_count": null,
   "metadata": {},
   "outputs": [],
   "source": [
    "print(pessoa['sobrenome'])\n",
    "# resultado:    Carneiro"
   ]
  },
  {
   "cell_type": "markdown",
   "metadata": {},
   "source": [
    "**Acessando um dicionario dentro do outro**"
   ]
  },
  {
   "cell_type": "code",
   "execution_count": null,
   "metadata": {},
   "outputs": [],
   "source": [
    "print(f\"{pessoa['endereços'][1]}\\n\")\n",
    "# Resultado:    {'rua': 'outra Rua', 'número': 1}"
   ]
  },
  {
   "cell_type": "markdown",
   "metadata": {},
   "source": [
    "**Acessando todos os dados**"
   ]
  },
  {
   "cell_type": "code",
   "execution_count": null,
   "metadata": {},
   "outputs": [],
   "source": [
    "for i in pessoa:\n",
    "    print(f'{i}, {pessoa[i]}')\n",
    "# resultados:   nome, Dato\n",
    "#               sobrenome, Carneiro\n",
    "#               idade, 18\n",
    "#               altura, 1.8\n",
    "#               endereços, [{'rua': 'A ultima do bairro', 'número': 1000}, {'rua': 'outra Rua', 'número': 1}]"
   ]
  },
  {
   "cell_type": "markdown",
   "metadata": {},
   "source": [
    "**Com a função items()**"
   ]
  },
  {
   "cell_type": "code",
   "execution_count": null,
   "metadata": {},
   "outputs": [],
   "source": [
    "#acessando com a função items()\n",
    "for i, v in pessoa.items():\n",
    "    print(f'{i}, {v}')\n",
    "# resultados:   nome, Dato\n",
    "#               sobrenome, Carneiro\n",
    "#               idade, 18\n",
    "#               altura, 1.8\n",
    "#               endereços, [{'rua': 'A ultima do bairro', 'número': 1000}, {'rua': 'outra Rua', 'número': 1}]"
   ]
  }
 ],
 "metadata": {
  "kernelspec": {
   "display_name": "Python 3",
   "language": "python",
   "name": "python3"
  },
  "language_info": {
   "codemirror_mode": {
    "name": "ipython",
    "version": 3
   },
   "file_extension": ".py",
   "mimetype": "text/x-python",
   "name": "python",
   "nbconvert_exporter": "python",
   "pygments_lexer": "ipython3",
   "version": "3.11.5"
  }
 },
 "nbformat": 4,
 "nbformat_minor": 2
}
