{
 "cells": [
  {
   "cell_type": "markdown",
   "metadata": {},
   "source": [
    "# **Dicionarios**\n",
    "\n",
    "\n",
    "Dicionários são estruturas de dados do tipo par de `\"chave\" e \"valor\".`\n",
    "\n",
    "`CHAVES` - podem ser consideradas como o \"índice\", e podem ser de tipos imutáveis como: str, int, float, bool, tuple, etc.\n",
    "`VALOR_  - pode ser de qualquer tipo, incluindo outro dicionário.\n",
    "\n",
    "Usamos as chaves - `{}` - ou a classe dict para criar dicionários.\n",
    "\n",
    "```PYTHON\n",
    "    Imutáveis: str, int, float, bool, tuple\n",
    "    Mutável: dict, list\n",
    "\n",
    "\n",
    "dict é uma class, então podemos chamar os method (métodos) que éssa classe possuiu\n",
    "\n",
    "para chamar os method (métodos) inserimos o `.` após a class dict ficanco `dict.` , no vscode isso irá retornar alguns métodos que a class dict possui\n",
    "```"
   ]
  },
  {
   "cell_type": "markdown",
   "metadata": {},
   "source": [
    "# **CRUD em Dicionarios**\n",
    "\n",
    "        Create Read Update   Delete\n",
    "        Criar, ler, alterar, apagar\n",
    "\n",
    "\n",
    "# Métodos úteis dos dicionários em Python  (Exemplos dos Métodos no final)\n",
    "\n",
    "| Método              | Descrição                                                                                          |\n",
    "|---------------------|----------------------------------------------------------------------------------------------------|\n",
    "| `keys()`            | Retorna uma nova view com todas as chaves do dicionário.                                           |\n",
    "| `values()`          | Retorna uma nova view com todos os valores do dicionário.                                          |\n",
    "| `items()`           | Retorna uma nova view com todos os pares (chave, valor) do dicionário.                             |\n",
    "| `get()`             | Retorna o valor para uma chave especificada, ou `None` se a chave não estiver no dicionário.       |\n",
    "| `update()`          | Atualiza o dicionário com pares chave-valor de outro dicionário ou de um iterável de pares.        |\n",
    "| `pop()`             | Remove a chave especificada e retorna o valor correspondente.                                      |\n",
    "| `popitem()`         | Remove e retorna um par (chave, valor) do dicionário.                                              |\n",
    "| `setdefault()`      | Retorna o valor da chave especificada. Se a chave não existir, insere a chave com o valor fornecido.|\n",
    "| `clear()`           | Remove todos os itens do dicionário.                                                               |\n",
    "| `copy()`            | Retorna uma cópia rasa do dicionário.                                                              |\n",
    "| `fromkeys()`        | Cria um novo dicionário com chaves de um iterável e valores fornecidos (ou `None` se não fornecidos).|\n",
    "| `__len__()`         | Retorna o número de itens no dicionário.                                                           |\n",
    "| `__getitem__()`     | Retorna o valor associado a uma chave específica.                                                  |\n",
    "| `__setitem__()`     | Define o valor associado a uma chave específica.                                                   |\n",
    "| `__delitem__()`     | Remove o item com a chave especificada.                                                            |\n",
    "| `__contains__()`    | Verifica se uma chave está no dicionário.                                                          |\n",
    "| `__iter__()`        | Retorna um iterador sobre as chaves do dicionário.                                                 |\n",
    "| `__repr__()`        | Retorna a representação string do dicionário.                                                      |\n",
    "| `__eq__()`          | Verifica se dois dicionários são iguais.                                                           |\n",
    "| `__ne__()`          | Verifica se dois dicionários são diferentes.                                                       |\n",
    "\n",
    "\n"
   ]
  },
  {
   "cell_type": "markdown",
   "metadata": {},
   "source": [
    "**Exemplo da  estrutura:**"
   ]
  },
  {
   "cell_type": "code",
   "execution_count": null,
   "metadata": {},
   "outputs": [],
   "source": [
    "# EXEMPLO:\n",
    "pessoa = {\n",
    "    'nome': 'Dato',\n",
    "    'sobrenome': 'Carneiro',\n",
    "    'idade': 18,\n",
    "    'altura': 1.8,\n",
    "    'endereços': [\n",
    "        {'rua': 'A ultima do bairro', 'número': 1000},\n",
    "        {'rua': 'outra Rua', 'número': 1},\n",
    "    ]\n",
    "}\n",
    "print(pessoa)\n",
    "# Resultados: {'nome': 'Dato', 'sobrenome': 'Carneiro', 'idade': 18, 'altura': 1.8, 'endereços': [{'rua': 'A ultima do bairro', 'número': 1000}, {'rua': 'outra Rua', 'número': 1}]}"
   ]
  },
  {
   "cell_type": "markdown",
   "metadata": {},
   "source": [
    "**Exemplo da estrutura com a class dict()**"
   ]
  },
  {
   "cell_type": "code",
   "execution_count": null,
   "metadata": {},
   "outputs": [],
   "source": [
    "pessoa = dict(nome='Dato', sobrenome='Carneiro')\n",
    "print(pessoa)\n",
    "# Resultados: {'nome': 'Dato', 'sobrenome': 'Carneiro'}"
   ]
  },
  {
   "cell_type": "markdown",
   "metadata": {},
   "source": [
    "# **Adicionar dados á um dicionario**"
   ]
  },
  {
   "cell_type": "markdown",
   "metadata": {},
   "source": [
    "**Adicionando CHAVE e VALOR com o sinal de atribuição \" = \"**"
   ]
  },
  {
   "cell_type": "code",
   "execution_count": null,
   "metadata": {},
   "outputs": [],
   "source": [
    "dados = {}\n",
    "print(dados)\n",
    "\n",
    "dados['nome'] = 'Dato Carneiro'\n",
    "print(dados)\n",
    "# Resultado:    {'nome': 'Dato Carneiro'}"
   ]
  },
  {
   "cell_type": "markdown",
   "metadata": {},
   "source": [
    "**Adicionar/acessar dados com CHAVE dinâmica através de variavel**\n",
    "\n",
    "    mesmo se for alterado posteriormente, tanto o acesso como para acessar não serão influenciados"
   ]
  },
  {
   "cell_type": "code",
   "execution_count": null,
   "metadata": {},
   "outputs": [],
   "source": [
    "pessoa = {}\n",
    "chave = 'nome' # mesmo se for alterado posteriormente, tanto o acesso como para acessar não serão influenciados\n",
    "pessoa[chave] = 'Dato'\n",
    "print(pessoa[chave])\n",
    "\n",
    "# Resultado: Dato"
   ]
  },
  {
   "cell_type": "markdown",
   "metadata": {},
   "source": [
    "# apontado valores de outro dicionario\n",
    "    \n",
    "    # Dica\n",
    "        usando o sinal d atribuição ' = ', não será feita uma cópia para um novo dicionario, apenas estamos apontando para o valor do dicionario \"Raiz\"\n",
    "        \n",
    "        No exemplo abaixo:\n",
    "            veja que se modificamos o valor do dicionario2, e os valores do dicionario1 tambem são afetados"
   ]
  },
  {
   "cell_type": "code",
   "execution_count": null,
   "metadata": {},
   "outputs": [],
   "source": [
    "dicionario1 = {'Nome': 'Dato',\n",
    "               'idade': 18\n",
    "             }\n",
    "dicionario2 = dicionario1\n",
    "dicionario2['Nome'] = 'Joshua'\n",
    "\n",
    "print(dicionario1)\n",
    "# Resultado: {'Nome': 'Joshua', 'idade': 18}\n",
    "print(dicionario2)\n",
    "# Resultado: {'Nome': 'Joshua', 'idade': 18}"
   ]
  },
  {
   "cell_type": "markdown",
   "metadata": {},
   "source": [
    "**Ideal seria usar o método copy()** (cópia Raza)\n",
    "\n",
    "        porem não atende para subníveis do dicionario(dicioanrio dentro de dicionario, lista dentreo de dicionario etc...)\n"
   ]
  },
  {
   "cell_type": "code",
   "execution_count": null,
   "metadata": {},
   "outputs": [],
   "source": [
    "dicionario1 = {'Nome': 'Dato',\n",
    "               'idade': 18\n",
    "             }\n",
    "dicionario2 = dicionario1.copy()\n",
    "dicionario2['Nome'] = 'Joshua'\n",
    "\n",
    "print(dicionario1)\n",
    "# Resultado: {'Nome': 'Dato', 'idade': 18}\n",
    "print(dicionario2)\n",
    "# Resultado: {'Nome': 'Joshua', 'idade': 18}"
   ]
  },
  {
   "cell_type": "markdown",
   "metadata": {},
   "source": [
    "    veja como não atende a subníveis, o indeci 1 da lista é afetada em ambos os dicionario\n",
    "\n",
    "    para atender isso devemos usar deepcopy do modulo copy (veja no proximo exemplo)"
   ]
  },
  {
   "cell_type": "code",
   "execution_count": null,
   "metadata": {},
   "outputs": [],
   "source": [
    "dicionario1 = {'Nome': 'Dato',\n",
    "               'idade': 18,\n",
    "               'Lista': [1,2,3,]\n",
    "             }\n",
    "dicionario2 = dicionario1.copy()\n",
    "dicionario2['Lista'][1] = 'Joshua'\n",
    "\n",
    "print(dicionario1)\n",
    "# Resultado: {'Nome': 'Dato', 'idade': 18, 'Lista': [1, 'Joshua', 3]}\n",
    "print(dicionario2)\n",
    "# Resultado: {'Nome': 'Dato', 'idade': 18, 'Lista': [1, 'Joshua', 3]}"
   ]
  },
  {
   "cell_type": "markdown",
   "metadata": {},
   "source": [
    "**Usando deeepcopy do módulo copy** (cópia total)\n",
    "\n",
    "    - precisa ser importado (import copy)\n",
    "    - Atende subníveis do dicionario, modificando somente um dos dicionarios"
   ]
  },
  {
   "cell_type": "code",
   "execution_count": null,
   "metadata": {},
   "outputs": [],
   "source": [
    "import copy\n",
    "\n",
    "dicionario1 = {'Nome': 'Dato',\n",
    "               'idade': 18,\n",
    "               'Lista': [1,2,3,]\n",
    "             }\n",
    "dicionario2 = copy.deepcopy(dicionario1)\n",
    "dicionario2['Lista'][1] = 'Joshua'\n",
    "\n",
    "print(dicionario1)\n",
    "# Resultado: {'Nome': 'Dato', 'idade': 18, 'Lista': [1, 2, 3]}\n",
    "print(dicionario2)\n",
    "# Resultado: {'Nome': 'Dato', 'idade': 18, 'Lista': [1, 'Joshua', 3]}"
   ]
  },
  {
   "cell_type": "markdown",
   "metadata": {},
   "source": [
    "# Apagar/Deletar Chave com instrução del "
   ]
  },
  {
   "cell_type": "code",
   "execution_count": null,
   "metadata": {},
   "outputs": [],
   "source": [
    "pessoa = {}\n",
    "chave = 'nome' # mesmo se for alterado posteriormente, tanto o acesso como para acessar não serão influenciados\n",
    "pessoa[chave] = 'Dato'\n",
    "pessoa['Sobrenome'] = 'Carneiro'\n",
    "print(pessoa)\n",
    "# Resultado: {'nome': 'Dato', 'Sobrenome': 'Carneiro'}\n",
    "\n",
    "del pessoa['Sobrenome']\n",
    "print(pessoa)\n",
    "# Resultado: {'nome': 'Dato'}\n"
   ]
  },
  {
   "cell_type": "markdown",
   "metadata": {},
   "source": [
    "# Acessando dados do dicionário"
   ]
  },
  {
   "cell_type": "code",
   "execution_count": null,
   "metadata": {},
   "outputs": [],
   "source": [
    "# EXEMPLO:\n",
    "pessoa = {\n",
    "    'nome': 'Dato',\n",
    "    'sobrenome': 'Carneiro',\n",
    "    'idade': 18,\n",
    "    'altura': 1.8,\n",
    "    'endereços': [\n",
    "        {'rua': 'A ultima do bairro', 'número': 1000},\n",
    "        {'rua': 'outra Rua', 'número': 1},\n",
    "    ]\n",
    "}"
   ]
  },
  {
   "cell_type": "markdown",
   "metadata": {},
   "source": [
    "**Passando a chave** "
   ]
  },
  {
   "cell_type": "code",
   "execution_count": null,
   "metadata": {},
   "outputs": [],
   "source": [
    "print(pessoa['sobrenome'])\n",
    "# resultado:    Carneiro"
   ]
  },
  {
   "cell_type": "markdown",
   "metadata": {},
   "source": [
    "**Acessando um dicionario dentro do outro**"
   ]
  },
  {
   "cell_type": "code",
   "execution_count": null,
   "metadata": {},
   "outputs": [],
   "source": [
    "print(f\"{pessoa['endereços'][1]}\\n\")\n",
    "# Resultado:    {'rua': 'outra Rua', 'número': 1}"
   ]
  },
  {
   "cell_type": "markdown",
   "metadata": {},
   "source": [
    "**Acessando todos os dados**"
   ]
  },
  {
   "cell_type": "code",
   "execution_count": null,
   "metadata": {},
   "outputs": [],
   "source": [
    "for ic in pessoa:\n",
    "    print(f'{i}, {pessoa[i]}')\n",
    "# resultados:   nome, Dato\n",
    "#               sobrenome, Carneiro\n",
    "#               idade, 18\n",
    "#               altura, 1.8\n",
    "#               endereços, [{'rua': 'A ultima do bairro', 'número': 1000}, {'rua': 'outra Rua', 'número': 1}]"
   ]
  },
  {
   "cell_type": "markdown",
   "metadata": {},
   "source": [
    "**Com a função items()**"
   ]
  },
  {
   "cell_type": "code",
   "execution_count": null,
   "metadata": {},
   "outputs": [],
   "source": [
    "#acessando com a função items()\n",
    "for c, v in pessoa.items():\n",
    "    print(f'{c}, {v}')\n",
    "# resultados:   nome, Dato\n",
    "#               sobrenome, Carneiro\n",
    "#               idade, 18\n",
    "#               altura, 1.8\n",
    "#               endereços, [{'rua': 'A ultima do bairro', 'número': 1000}, {'rua': 'outra Rua', 'número': 1}]"
   ]
  },
  {
   "cell_type": "code",
   "execution_count": null,
   "metadata": {},
   "outputs": [],
   "source": [
    "dict."
   ]
  },
  {
   "cell_type": "markdown",
   "metadata": {},
   "source": [
    "# Consultar se existe uma chave com get() - evitando quebra de código\n",
    "    dicionario.get('chave_procurada', None)  # não precisa do None pois ja é o retorna padrão\n",
    "        ou        \n",
    "    dicionario.get('chave_procurada','aqui posso passar o que será retornado')\n",
    "\n",
    "        - por padrão retorna NONE\n",
    "        - Útil para tratar keyerro"
   ]
  },
  {
   "cell_type": "code",
   "execution_count": null,
   "metadata": {},
   "outputs": [],
   "source": [
    "pessoa = {}\n",
    "chave = 'nome' # mesmo se for alterado posteriormente, tanto o acesso como para acessar não serão influenciados\n",
    "pessoa[chave] = 'Dato'\n",
    "pessoa['Sobrenome'] = 'Carneiro'\n",
    "\n",
    "del pessoa['Sobrenome'] # Chave foi apagada aqui \n",
    "\n",
    "print(pessoa.get('Sobrenome',None)) # não é nesseraio None, pois ja é o retorno padrão\n",
    "# resultado: None\n",
    "print(pessoa.get('Sobrenome','A chave não existe'))\n",
    "# Resultado: A chave não existe\n"
   ]
  },
  {
   "cell_type": "markdown",
   "metadata": {},
   "source": [
    "**Útil com Condicional if**"
   ]
  },
  {
   "cell_type": "code",
   "execution_count": null,
   "metadata": {},
   "outputs": [],
   "source": [
    "pessoa = {}\n",
    "chave = 'nome' # mesmo se for alterado posteriormente, tanto o acesso como para acessar não serão influenciados\n",
    "pessoa[chave] = 'Dato'\n",
    "pessoa['Sobrenome'] = 'Carneiro'\n",
    "\n",
    "del pessoa['Sobrenome'] # Chave foi apagada aqui \n",
    "\n",
    "if pessoa.get('Sobrenome') is None:\n",
    "    print('A chave não existe') \n",
    "else: \n",
    "    print(pessoa['Sobrenome'])\n",
    "\n",
    "# Resultado: A chave não existe"
   ]
  },
  {
   "cell_type": "markdown",
   "metadata": {},
   "source": [
    "# **Métodos úteis**"
   ]
  },
  {
   "cell_type": "markdown",
   "metadata": {},
   "source": [
    "    # Métodos úteis dos dicionários em Python\n",
    "        # len - quantas chaves\n",
    "        # keys - iterável com as chaves\n",
    "        # values - iterável com os valores\n",
    "        # items - iterável com chaves e valores\n",
    "        # setdefault - adiciona valor se a chave não existe\n",
    "        # copy - retorna uma cópia rasa (shallow copy)\n",
    "        # get - obtém uma chave\n",
    "        # pop - Apaga um item com a chave especificada (del)\n",
    "        # popitem - Apaga o último item adicionado\n",
    "        # update - Atualiza um dicionário com outro"
   ]
  },
  {
   "cell_type": "markdown",
   "metadata": {},
   "source": [
    "# len\n",
    "\n",
    "    Irá retornar quantas chaves tem no dicionario"
   ]
  },
  {
   "cell_type": "code",
   "execution_count": null,
   "metadata": {},
   "outputs": [],
   "source": [
    "pessoa = {\n",
    "    'nome': 'Dato',\n",
    "    'sobrenome': 'Carneiro',\n",
    "    'idade': 18,\n",
    "}\n",
    "print(len(pessoa))\n",
    "# Resultado: 3"
   ]
  },
  {
   "cell_type": "markdown",
   "metadata": {},
   "source": [
    "    No exemplo abaixo ira retornar 3, pois chaves repitidas é como elas estivessem sendo atualizada apenas"
   ]
  },
  {
   "cell_type": "code",
   "execution_count": null,
   "metadata": {},
   "outputs": [],
   "source": [
    "pessoa = {\n",
    "    'nome': 'Dato',\n",
    "    'nome': 'Daniel',\n",
    "    'nome': 'Ezequiel',\n",
    "    'sobrenome': 'Carneiro',\n",
    "    'idade': 18,\n",
    "}\n",
    "print(len(pessoa))\n",
    "# Resultado: 3"
   ]
  },
  {
   "cell_type": "markdown",
   "metadata": {},
   "source": [
    "# keys\n",
    "\n",
    "    Iteravél sobre as chaves"
   ]
  },
  {
   "cell_type": "code",
   "execution_count": null,
   "metadata": {},
   "outputs": [],
   "source": [
    "pessoa = {\n",
    "    'nome': 'Dato',\n",
    "    'sobrenome': 'Carneiro',\n",
    "    'idade': 18,\n",
    "}\n",
    "print(pessoa.keys())\n",
    "# Resultado: dict_keys(['nome', 'sobrenome', 'idade'])\n",
    "\n",
    "print(list(pessoa.keys())) # com coersão\n",
    "# Resultado: ['nome', 'sobrenome', 'idade']\n",
    "\n",
    "for c in pessoa.keys():     # for i in pessoa: .... vai retornar a mesma coisa\n",
    "    print(c)\n",
    "# Resultado:    nome\n",
    "#               sobrenome\n",
    "#               idade"
   ]
  },
  {
   "cell_type": "markdown",
   "metadata": {},
   "source": [
    "# values\n",
    "\n",
    "    Iterável sobre os valores"
   ]
  },
  {
   "cell_type": "code",
   "execution_count": null,
   "metadata": {},
   "outputs": [],
   "source": [
    "pessoa = {\n",
    "    'nome': 'Dato',\n",
    "    'sobrenome': 'Carneiro',\n",
    "    'idade': 18,\n",
    "}\n",
    "print(pessoa.values())\n",
    "# Resultado: dict_values(['Dato', 'Carneiro', 18])\n",
    "\n",
    "print(list(pessoa.values())) # com coersão\n",
    "# Resultado: ['Dato', 'Carneiro', 18]\n",
    "\n",
    "for c in pessoa.values():     # for i in pessoa: .... vai retornar a mesma coisa\n",
    "    print(c)\n",
    "# Resultado:    Dato\n",
    "#               Carneiro\n",
    "#               18"
   ]
  },
  {
   "cell_type": "markdown",
   "metadata": {},
   "source": [
    "# items \n",
    "\n",
    "    - Iteravel com chave e valor\n",
    "    - Útil com enumerate   "
   ]
  },
  {
   "cell_type": "code",
   "execution_count": null,
   "metadata": {},
   "outputs": [],
   "source": [
    "pessoa = {\n",
    "    'nome': 'Dato',\n",
    "    'sobrenome': 'Carneiro',\n",
    "    'idade': 18,\n",
    "}\n",
    "print(pessoa.items())\n",
    "# Resultado: dict_items([('nome', 'Dato'), ('sobrenome', 'Carneiro'), ('idade', 18)])\n",
    "\n",
    "print(list(pessoa.items())) # com coersão\n",
    "# Resultado: [('nome', 'Dato'), ('sobrenome', 'Carneiro'), ('idade', 18)]\n",
    "\n",
    "for c in pessoa.items():     # for i in pessoa: .... vai retornar a mesma coisa\n",
    "    print(c)\n",
    "# Resultado:    ('nome', 'Dato')\n",
    "#               ('sobrenome', 'Carneiro')\n",
    "#               ('idade', 18)\n",
    "    \n",
    "for c, v in pessoa.items():     # for i in pessoa: .... vai retornar a mesma coisa\n",
    "    print(c, v)\n",
    "# Resultado:    nome Dato\n",
    "#               sobrenome Carneiro\n",
    "#               idade 18"
   ]
  },
  {
   "cell_type": "markdown",
   "metadata": {},
   "source": [
    "# setdefault\n",
    "\n",
    "    adiciona uma nova chave e  valor que será definido se a chave não existe, porem se ja exister rotorna o valor que ja existe"
   ]
  },
  {
   "cell_type": "markdown",
   "metadata": {},
   "source": [
    "**Exemplo com a chave já existente**\n",
    "\n",
    "    resultado será 100000"
   ]
  },
  {
   "cell_type": "code",
   "execution_count": null,
   "metadata": {},
   "outputs": [],
   "source": [
    "pessoa = {\n",
    "    'nome': 'Dato',\n",
    "    'sobrenome': 'Carneiro',\n",
    "    'Nova Chave  idade': 100000,\n",
    "}\n",
    "pessoa.setdefault('Nova Chave  idade', 18 )\n",
    "print(pessoa['Nova Chave  idade'])\n",
    "\n",
    "# resultado:  100000"
   ]
  },
  {
   "cell_type": "markdown",
   "metadata": {},
   "source": [
    "**Exemplo quando a chave ainda não existe**\n",
    "\n",
    "    Resultado será 18"
   ]
  },
  {
   "cell_type": "code",
   "execution_count": null,
   "metadata": {},
   "outputs": [],
   "source": [
    "pessoa = {\n",
    "    'nome': 'Dato',\n",
    "    'sobrenome': 'Carneiro',\n",
    "}\n",
    "pessoa.setdefault('Nova Chave  idade', 18 )\n",
    "print(pessoa['Nova Chave  idade'])\n",
    "\n",
    "# resultado:  18"
   ]
  },
  {
   "cell_type": "markdown",
   "metadata": {},
   "source": [
    "# get\n",
    "    Obtem o valor passando o nome da chave como argumento"
   ]
  },
  {
   "cell_type": "code",
   "execution_count": null,
   "metadata": {},
   "outputs": [],
   "source": [
    "pessoa = {\n",
    "    'nome': 'Dato',\n",
    "    'sobrenome': 'Carneiro',\n",
    "}\n",
    "print(pessoa.get('nome'))\n",
    "# resultado: Dato"
   ]
  },
  {
   "cell_type": "markdown",
   "metadata": {},
   "source": [
    "# pop\n",
    "    Apaga um item com a chave especificada, ele vai retornar o valor que existe na chave mas tambem irá excluir a chave e valor"
   ]
  },
  {
   "cell_type": "code",
   "execution_count": null,
   "metadata": {},
   "outputs": [],
   "source": [
    "pessoa = {\n",
    "    'nome': 'Dato',\n",
    "    'sobrenome': 'Carneiro',\n",
    "}\n",
    "dados = pessoa.pop('nome')\n",
    "print(dados)\n",
    "#Resultado:     Dato\n",
    "print(pessoa)\n",
    "# Resultado:    {'sobrenome': 'Carneiro'}"
   ]
  },
  {
   "cell_type": "markdown",
   "metadata": {},
   "source": [
    "# popitem   \n",
    "    elimina a ultima chave do dicionario, então não pode ser passado chave como argumento, por padrão sempre será a ultima"
   ]
  },
  {
   "cell_type": "code",
   "execution_count": null,
   "metadata": {},
   "outputs": [],
   "source": [
    "pessoa = {\n",
    "    'nome': 'Dato',\n",
    "    'sobrenome': 'Carneiro',\n",
    "}\n",
    "dados = pessoa.popitem()\n",
    "print(dados)\n",
    "#Resultado:     ('sobrenome', 'Carneiro')\n",
    "print(pessoa)\n",
    "# Resultado:    {'nome': 'Dato'}"
   ]
  },
  {
   "cell_type": "markdown",
   "metadata": {},
   "source": [
    "# update\n",
    "    Atualiza dados do dicionario\n",
    "        - atualiza uma chave exite\n",
    "        - adiciona uma nova chave \n",
    "        - pode receber um iteravel como argumento que comporta como um dicionario (tupla dentro de tupla ((), ())/ lista dentro de lista [[],[]])"
   ]
  },
  {
   "cell_type": "code",
   "execution_count": null,
   "metadata": {},
   "outputs": [],
   "source": [
    "pessoa = {\n",
    "    'nome': 'Dato',\n",
    "    'sobrenome': 'Carneiro',\n",
    "}\n",
    "print(pessoa)\n",
    "# Resultado:    {'nome': 'Dato', 'sobrenome': 'Carneiro'}\n",
    "\n",
    "pessoa.update({\n",
    "    'nome': 'novo valor',\n",
    "    'idade': 18\n",
    "})\n",
    "print(pessoa)\n",
    "# Resultado:    {'nome': 'novo valor', 'sobrenome': 'Carneiro', 'idade': 18}"
   ]
  },
  {
   "cell_type": "markdown",
   "metadata": {},
   "source": [
    "**Pode ser passado diretamente como argumentos**"
   ]
  },
  {
   "cell_type": "code",
   "execution_count": null,
   "metadata": {},
   "outputs": [],
   "source": [
    "pessoa = {\n",
    "    'nome': 'Dato',\n",
    "    'sobrenome': 'Carneiro',\n",
    "}\n",
    "print(pessoa)\n",
    "# Resultado:    {'nome': 'Dato', 'sobrenome': 'Carneiro'}\n",
    "\n",
    "pessoa.update(nome='novo valor', idade=18)\n",
    "print(pessoa)\n",
    "# Resultado:    {'nome': 'novo valor', 'sobrenome': 'Carneiro', 'idade': 18}"
   ]
  },
  {
   "cell_type": "markdown",
   "metadata": {},
   "source": [
    "**Com iteráveis**"
   ]
  },
  {
   "cell_type": "code",
   "execution_count": null,
   "metadata": {},
   "outputs": [],
   "source": [
    "pessoa = {\n",
    "    'nome': 'Dato',\n",
    "    'sobrenome': 'Carneiro',\n",
    "}\n",
    "print(pessoa)\n",
    "# Resultado:    {'nome': 'Dato', 'sobrenome': 'Carneiro'}\n",
    "\n",
    "lista_novos_dados = [['nome', 'Joshua'], ['idade', 18]]\n",
    "pessoa.update(lista_novos_dados)\n",
    "print(pessoa)\n",
    "# Resultado:    {'nome': 'novo valor', 'sobrenome': 'Carneiro', 'idade': 18}"
   ]
  },
  {
   "cell_type": "markdown",
   "metadata": {},
   "source": [
    "# **Empacotamento e Desempacotamento de dicionários**\n"
   ]
  },
  {
   "cell_type": "markdown",
   "metadata": {},
   "source": [
    "# unindo 2 dicionarios diferentes\n",
    "    Atenção: se houver 2 chave com o mesmo \"Nome\", irá retornar o valor da ultima chave"
   ]
  },
  {
   "cell_type": "code",
   "execution_count": null,
   "metadata": {},
   "outputs": [],
   "source": [
    "dicionario1 = {'Nome': 'Dato',\n",
    "               'Sobrenome': 'Carneiro'}\n",
    "\n",
    "dicionario2 = {'idade': 18,\n",
    "               'Altura': 1.85}\n",
    "\n",
    "unindo = {**dicionario1, **dicionario2}\n",
    "print(unindo)\n",
    "# resultado:    {'Nome': 'Dato', 'Sobrenome': 'Carneiro', 'idade': 18, 'Altura': 1.85}"
   ]
  },
  {
   "cell_type": "markdown",
   "metadata": {},
   "source": [
    "# dicionarios com *args e **kwargs\n",
    "\n",
    "    # args - argumentos não nomeados\n",
    "    # kwargs - keyword arguments (argumentos nomeados)"
   ]
  },
  {
   "cell_type": "code",
   "execution_count": 46,
   "metadata": {},
   "outputs": [
    {
     "name": "stdout",
     "output_type": "stream",
     "text": [
      "Nome Dato\n",
      "('Nome', 'Dato')\n"
     ]
    }
   ],
   "source": [
    "def mostrar_argumentos_nomeados(*args, **kwargs):\n",
    "    for i,v in kwargs.items():\n",
    "        print(i,v)\n",
    "        return i,v\n",
    "\n",
    "print(mostrar_argumentos_nomeados(Nome='Dato', idade=18))"
   ]
  },
  {
   "cell_type": "code",
   "execution_count": 30,
   "metadata": {},
   "outputs": [
    {
     "name": "stdout",
     "output_type": "stream",
     "text": [
      "({'Nome': 'Dato', 'Sobrenome': 'Carneiro', 'idade': 18, 'Altura': 1.85},)\n"
     ]
    }
   ],
   "source": [
    "dicionario1 = {'Nome': 'Dato',\n",
    "               'Sobrenome': 'Carneiro',\n",
    "               'idade': 18,\n",
    "               'Altura': 1.85}\n",
    "\n",
    "def mostrar_argumentos_nomeados(*args):\n",
    "    print(args)\n",
    "\n",
    "mostrar_argumentos_nomeados(dicionario1)"
   ]
  }
 ],
 "metadata": {
  "kernelspec": {
   "display_name": "Python 3",
   "language": "python",
   "name": "python3"
  },
  "language_info": {
   "codemirror_mode": {
    "name": "ipython",
    "version": 3
   },
   "file_extension": ".py",
   "mimetype": "text/x-python",
   "name": "python",
   "nbconvert_exporter": "python",
   "pygments_lexer": "ipython3",
   "version": "3.11.5"
  }
 },
 "nbformat": 4,
 "nbformat_minor": 2
}
