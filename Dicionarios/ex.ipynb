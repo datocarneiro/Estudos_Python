{
 "cells": [
  {
   "cell_type": "markdown",
   "metadata": {},
   "source": [
    "# Exercício - sistema de perguntas e respostas\n",
    "    perguntas = [\n",
    "        {\n",
    "            'Pergunta': 'Quanto é 2+2?',\n",
    "            'Opções': ['1', '3', '4', '5'],\n",
    "            'Resposta': '4',\n",
    "        },\n",
    "        {\n",
    "            'Pergunta': 'Quanto é 5*5?',\n",
    "            'Opções': ['25', '55', '10', '51'],\n",
    "            'Resposta': '25',\n",
    "        },\n",
    "        {\n",
    "            'Pergunta': 'Quanto é 10/2?',\n",
    "            'Opções': ['4', '5', '2', '1'],\n",
    "            'Resposta': '5',\n",
    "        },\n",
    "    ]"
   ]
  },
  {
   "cell_type": "code",
   "execution_count": 35,
   "metadata": {},
   "outputs": [
    {
     "name": "stdout",
     "output_type": "stream",
     "text": [
      "{'Pergunta': 'Quanto é 2+2?', 'Opções': ['1', '3', '4', '5'], 'Resposta': '4'}\n",
      "['1', '3', '4', '5']\n",
      "4\n",
      "{'Pergunta': 'Quanto é 5*5?', 'Opções': ['25', '55', '10', '51'], 'Resposta': '25'}\n",
      "['25', '55', '10', '51']\n",
      "10\n",
      "{'Pergunta': 'Quanto é 10/2?', 'Opções': ['4', '5', '2', '1'], 'Resposta': '5'}\n",
      "['4', '5', '2', '1']\n",
      "2\n"
     ]
    }
   ],
   "source": [
    "perguntas = [{\n",
    "        'Pergunta': 'Quanto é 2+2?',\n",
    "        'Opções': ['1', '3', '4', '5'],\n",
    "        'Resposta': '4',\n",
    "    },{\n",
    "        'Pergunta': 'Quanto é 5*5?',\n",
    "        'Opções': ['25', '55', '10', '51'],\n",
    "        'Resposta': '25',\n",
    "    },{\n",
    "        'Pergunta': 'Quanto é 10/2?',\n",
    "        'Opções': ['4', '5', '2', '1'],\n",
    "        'Resposta': '5',\n",
    "    }\n",
    "]\n",
    "\n",
    "# for i in perguntas:\n",
    "#     pergunta = i['Pergunta']\n",
    "#     print(pergunta)\n",
    "#     opcao = i['Opções']\n",
    "#     resposta = int(i['Resposta'])\n",
    "#     print(resposta)\n",
    "#     for indice, valor in enumerate(opcao):\n",
    "#         print(f'{indice}) {valor}')\n",
    "#     resposta_usuario = int(input('Escolha uma opção:  '))\n",
    "#     print(type(resposta_usuario))\n",
    "#     if resposta_usuario == resposta:\n",
    "#         print('Você Acertou ! ')\n",
    "#     else:\n",
    "#         print('Você Errou ! ')\n",
    "\n",
    "\n",
    "\n",
    "def conferir(indice):\n",
    "    for i in perguntas:\n",
    "        print(i)\n",
    "        resposta = i['Opções']\n",
    "        print(resposta)\n",
    "        valor = resposta[indice]\n",
    "        print(valor)\n",
    "        return valor\n"
   ]
  }
 ],
 "metadata": {
  "kernelspec": {
   "display_name": "Python 3",
   "language": "python",
   "name": "python3"
  },
  "language_info": {
   "codemirror_mode": {
    "name": "ipython",
    "version": 3
   },
   "file_extension": ".py",
   "mimetype": "text/x-python",
   "name": "python",
   "nbconvert_exporter": "python",
   "pygments_lexer": "ipython3",
   "version": "3.11.5"
  }
 },
 "nbformat": 4,
 "nbformat_minor": 2
}
