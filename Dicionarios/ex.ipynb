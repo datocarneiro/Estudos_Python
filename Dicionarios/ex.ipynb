{
 "cells": [
  {
   "cell_type": "markdown",
   "metadata": {},
   "source": [
    "# Exercício - sistema de perguntas e respostas\n",
    "    perguntas = [\n",
    "        {\n",
    "            'Pergunta': 'Quanto é 2+2?',\n",
    "            'Opções': ['1', '3', '4', '5'],\n",
    "            'Resposta': '4',\n",
    "        },\n",
    "        {\n",
    "            'Pergunta': 'Quanto é 5*5?',\n",
    "            'Opções': ['25', '55', '10', '51'],\n",
    "            'Resposta': '25',\n",
    "        },\n",
    "        {\n",
    "            'Pergunta': 'Quanto é 10/2?',\n",
    "            'Opções': ['4', '5', '2', '1'],\n",
    "            'Resposta': '5',\n",
    "        },\n",
    "    ]"
   ]
  },
  {
   "cell_type": "code",
   "execution_count": 1,
   "metadata": {},
   "outputs": [
    {
     "name": "stdout",
     "output_type": "stream",
     "text": [
      "Digite um número\n",
      "<class 'int'>\n",
      "Quanto é 5*5?\n",
      "Sua resposta foi \"1\"... Você ERROU ....:(\n",
      "<class 'int'>\n",
      "Quanto é 5*5?\n",
      "Sua resposta foi \"\"... Você ERROU ....:(\n"
     ]
    }
   ],
   "source": [
    "perguntas = [{\n",
    "        'Pergunta': 'Quanto é 2+2?',\n",
    "        'Opções': ['1', '3', '4', '5'],\n",
    "        'Resposta': '4',\n",
    "    },{\n",
    "        'Pergunta': 'Quanto é 5*5?',\n",
    "        'Opções': ['25', '55', '10', '51'],\n",
    "        'Resposta': '25',\n",
    "    },{\n",
    "        'Pergunta': 'Quanto é 10/2?',\n",
    "        'Opções': ['4', '5', '2', '1'],\n",
    "        'Resposta': '5',\n",
    "    },\n",
    "]\n",
    "while True: \n",
    "    try: \n",
    "        escolher_questao = int(input(f'escolha uma pergunta: 1, 2 ou 3?'))\n",
    "        if escolher_questao==1 or escolher_questao== 2 or escolher_questao==3:\n",
    "            try:\n",
    "                def escolher_pergunta(indice):\n",
    "                    indice = int(indice)\n",
    "                    print(type(indice))\n",
    "                    dados_pergunta_escolhida = perguntas[indice]\n",
    "                    print(dados_pergunta_escolhida.get('Pergunta'))\n",
    "                    opcoes = input(f\"Escolha uma das alternativas: {dados_pergunta_escolhida.get('Opções')}\")\n",
    "                    resposta = dados_pergunta_escolhida.get('Resposta')\n",
    "                    if opcoes == resposta:\n",
    "                        return 'Você ACERTOU ... :)'\n",
    "                    else:\n",
    "                        return 'Sua resposta foi \"{opcoes}\"... Você ERROU ....:('\n",
    "\n",
    "                escolher_pergunta(escolher_questao) \n",
    "            except IndexError:\n",
    "                print('Opção inválida, tente novamente')               \n",
    "\n",
    "    except ValueError:\n",
    "            print('Digite um número')\n"
   ]
  }
 ],
 "metadata": {
  "language_info": {
   "name": "python"
  }
 },
 "nbformat": 4,
 "nbformat_minor": 2
}
