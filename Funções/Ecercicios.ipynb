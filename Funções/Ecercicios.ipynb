{
 "cells": [
  {
   "cell_type": "code",
   "execution_count": null,
   "metadata": {},
   "outputs": [],
   "source": [
    "# Exercicio funçao:\n",
    "\n",
    "# crie uma função fala se um numero é par ou impar \n",
    "# retorna se o numerp é par ou impar\n",
    "\n",
    "def calculo(*args):\n",
    "    total = 1\n",
    "    for i in args:\n",
    "        total *= i\n",
    "    return total\n",
    "\n",
    "calculando = calculo(1,2,3,4)\n",
    "\n",
    "print(calculando)\n",
    "\n",
    "# Resultado: 24"
   ]
  },
  {
   "cell_type": "code",
   "execution_count": null,
   "metadata": {},
   "outputs": [],
   "source": [
    "# Exercícios com funções\n",
    "\n",
    "# Crie uma função que multiplica todos os argumentos não nomeados recebidos\n",
    "# Retorne o total para uma variável e mostre o valor da variável.\n",
    "\n",
    "# crie uma função fala se um numero é par ou impar \n",
    "# retorna se o numerp é par ou impar\n",
    "\n",
    "def par_impar(*args):\n",
    "    pares = []\n",
    "    impares = []\n",
    "    for i in args:\n",
    "        if i % 2 == 0:\n",
    "            pares.append(i)\n",
    "        else:\n",
    "            impares.append(i)\n",
    "    return f'numeros pares: {pares}\\nnumeros impares: {impares}'\n",
    "\n",
    "calculando = par_impar(1,2,3,4,5,6,)\n",
    "\n",
    "print(calculando)\n",
    "\n",
    "#Resultado:  numeros pares: [2, 4, 6]\n",
    "#            numeros impares: [1, 3, 5]"
   ]
  },
  {
   "cell_type": "code",
   "execution_count": 57,
   "metadata": {},
   "outputs": [
    {
     "name": "stdout",
     "output_type": "stream",
     "text": [
      "4\n",
      "6\n",
      "8\n"
     ]
    }
   ],
   "source": [
    "# Exercícios função\n",
    "\n",
    "# Crie funções que duplicam, triplicam e quadruplicam\n",
    "# o número recebido como parâmetro.\n",
    "\n",
    "def criar_multiplicador(multiplicador):\n",
    "    def multiplicar(numero):\n",
    "        return numero * multiplicador\n",
    "    return multiplicar\n",
    "\n",
    "duplicar = criar_multiplicador(2)\n",
    "triplicar = criar_multiplicador(3)\n",
    "quadruplicar = criar_multiplicador(4)0,\n",
    "3\n",
    "\n",
    "print(duplicar(2))\n",
    "print(triplicar(2))\n",
    "print(quadruplicar(2))\n",
    "\n",
    "# Resultado:    4\n",
    "#               6\n",
    "#               8\n"
   ]
  }
 ],
 "metadata": {
  "kernelspec": {
   "display_name": "Python 3",
   "language": "python",
   "name": "python3"
  },
  "language_info": {
   "codemirror_mode": {
    "name": "ipython",
    "version": 3
   },
   "file_extension": ".py",
   "mimetype": "text/x-python",
   "name": "python",
   "nbconvert_exporter": "python",
   "pygments_lexer": "ipython3",
   "version": "3.11.5"
  }
 },
 "nbformat": 4,
 "nbformat_minor": 2
}
