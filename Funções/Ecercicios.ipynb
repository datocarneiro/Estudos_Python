{
 "cells": [
  {
   "cell_type": "markdown",
   "metadata": {},
   "source": [
    "# Exercicio funçao:\n",
    "    crie uma função fala se um numero é par ou impar retorna se o numerp é par ou impar"
   ]
  },
  {
   "cell_type": "code",
   "execution_count": null,
   "metadata": {},
   "outputs": [],
   "source": [
    "def calculo(*args):\n",
    "    total = 1\n",
    "    for i in args:\n",
    "        total *= i\n",
    "    return total\n",
    "\n",
    "calculando = calculo(1,2,3,4)\n",
    "print(calculando)\n",
    "\n",
    "# Resultado: 24"
   ]
  },
  {
   "cell_type": "markdown",
   "metadata": {},
   "source": [
    "# Exercícios com funções\n",
    "    crie uma função fala se um numero é par ou impar retorna se o numerp é par ou impar"
   ]
  },
  {
   "cell_type": "code",
   "execution_count": null,
   "metadata": {},
   "outputs": [],
   "source": [
    "def par_impar(*args):\n",
    "    pares = []\n",
    "    impares = []\n",
    "    for i in args:\n",
    "        if i % 2 == 0:\n",
    "            pares.append(i)\n",
    "        else:\n",
    "            impares.append(i)\n",
    "    return f'numeros pares: {pares}\\nnumeros impares: {impares}'\n",
    "\n",
    "calculando = par_impar(1,2,3,4,5,6,)\n",
    "\n",
    "print(calculando)\n",
    "\n",
    "#Resultado:  numeros pares: [2, 4, 6]\n",
    "#            numeros impares: [1, 3, 5]"
   ]
  },
  {
   "cell_type": "markdown",
   "metadata": {},
   "source": [
    "# Exercícios função\n",
    "    Crie funções que duplicam, triplicam e quadruplicam o número recebido como parâmetro."
   ]
  },
  {
   "cell_type": "code",
   "execution_count": 57,
   "metadata": {},
   "outputs": [
    {
     "name": "stdout",
     "output_type": "stream",
     "text": [
      "4\n",
      "6\n",
      "8\n"
     ]
    }
   ],
   "source": [
    "def criar_multiplicador(multiplicador):\n",
    "    def multiplicar(numero):\n",
    "        return numero * multiplicador\n",
    "    return multiplicar\n",
    "\n",
    "duplicar = criar_multiplicador(2)\n",
    "triplicar = criar_multiplicador(3)\n",
    "quadruplicar = criar_multiplicador(4)\n",
    "\n",
    "print(duplicar(2))\n",
    "print(triplicar(2))\n",
    "print(quadruplicar(2))\n",
    "\n",
    "# Resultado:    4\n",
    "#               6\n",
    "#               8"
   ]
  }
 ],
 "metadata": {
  "kernelspec": {
   "display_name": "Python 3",
   "language": "python",
   "name": "python3"
  },
  "language_info": {
   "codemirror_mode": {
    "name": "ipython",
    "version": 3
   },
   "file_extension": ".py",
   "mimetype": "text/x-python",
   "name": "python",
   "nbconvert_exporter": "python",
   "pygments_lexer": "ipython3",
   "version": "3.11.5"
  }
 },
 "nbformat": 4,
 "nbformat_minor": 2
}
