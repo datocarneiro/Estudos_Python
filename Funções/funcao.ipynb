{
 "cells": [
  {
   "cell_type": "markdown",
   "metadata": {},
   "source": [
    "# **FUNÇÕES (def)** \n",
    "    Funções são trechos de código usados para replicar determinada ação ao longo do seu código.\n",
    "\n",
    "    Elas podem receber valores para parâmetros (argumentos) \n",
    "    e retornar um valor específico.\n",
    "\n",
    "    Por padrão, funções Python retornam None (nada).\n",
    "\n"
   ]
  },
  {
   "cell_type": "markdown",
   "metadata": {},
   "source": [
    "# **Entendendo: Parametro e Agumentos**"
   ]
  },
  {
   "cell_type": "markdown",
   "metadata": {},
   "source": [
    "# Paramentro:\n",
    "    Paramentro: é a variavél definida dentro dos parenteses da função, que devem receber valores(argumentos) quando a função é chamada.\n",
    "\n",
    "    por exemplo: \n",
    "                a,b,c são os parametros da função nome_da_funcao\n",
    "                def nome_da_funcao(a, b, c):"
   ]
  },
  {
   "cell_type": "code",
   "execution_count": null,
   "metadata": {},
   "outputs": [],
   "source": [
    "def nome_da_funcao(a, b, c):\n",
    "    ..."
   ]
  },
  {
   "cell_type": "markdown",
   "metadata": {},
   "source": [
    "# Argumento:\n",
    "    Argumento: São os valores dos parametros(variavel da função) que serão passados quando chamamos a função .\n",
    "\n",
    "    por exemplo: \n",
    "                1, 2, 3 como os argumentos para os parametros a, b, c                "
   ]
  },
  {
   "cell_type": "code",
   "execution_count": null,
   "metadata": {},
   "outputs": [],
   "source": [
    "def nome_da_funcao(a, b, c):\n",
    "    print(a, b, c)\n",
    "# chamando a função, e passando os argumentos \n",
    "nome_da_funcao(10, 20, 30)\n",
    "# chamando a mesma função e passando argumentos diferentes\n",
    "nome_da_funcao('Dato', 'Daniel', 'Zec')\n",
    "# resultado:    10 20 30\n",
    "#               Dato Daniel Zec\n"
   ]
  },
  {
   "cell_type": "markdown",
   "metadata": {},
   "source": [
    "# Argumentos nomeados\n",
    "    Argumentos nomeados recebem o nome do parâmetro antes do valor, argumentos posicionais recebem apenas o valor para preencher o parâmetro na ordem.\n",
    "\n",
    "        nomeados é interesante, pois podemos alterar a ordem de envio de valores para os parametros\n",
    "\n",
    "    regra: apartir do momento que eu isiro um argumento nomeado, todos os argumentos posterioeres devem ser nomeados tambem"
   ]
  },
  {
   "cell_type": "code",
   "execution_count": null,
   "metadata": {},
   "outputs": [],
   "source": [
    "def calcular(x, y, z):\n",
    "    # Definição\n",
    "    print(x * y + z)\n",
    "\n",
    "calcular(1, 2, 3) #agumentos posicional\n",
    "calcular(1, z=10, y=2) # argumentos nomeados\n",
    "# Resultado:  5\n",
    "#             12\n"
   ]
  },
  {
   "cell_type": "markdown",
   "metadata": {},
   "source": [
    "# Argumentos default (padrão)\n",
    "    ja nos paremtros  definimos um valor default padrão\n",
    "    se o argumento não for passado ao chamar irá execultar o padrão default padrão"
   ]
  },
  {
   "cell_type": "code",
   "execution_count": null,
   "metadata": {},
   "outputs": [],
   "source": [
    "def saudacao(nome= 'Sem Nome'):\n",
    "    print(f'Ola, {nome}')\n",
    "\n",
    "saudacao('Dato')\n",
    "saudacao('Ezequiel')\n",
    "saudacao()\n",
    "# Resultado:    Ola, Dato\n",
    "#               Ola, Ezequiel\n",
    "#               Ola, Sem Nome"
   ]
  },
  {
   "cell_type": "markdown",
   "metadata": {},
   "source": [
    "# **Escopo de funções**\n",
    "\n",
    "    Escopo significa o local onde aquele código pode atingir.\n",
    "\n",
    "    Existe o escopo global e local.\n",
    "        * O escopo global   \n",
    "            é o escopo onde todo o código é alcançavel.\n",
    "\n",
    "        * O escopo local\n",
    "            é o escopo onde apenas nomes do mesmo local podem ser alcançados. Elas são criadas quando a função é chamada e destruídas quando a função é concluída.\n",
    "\n",
    "        * Palavra chave GLOBAL\n",
    "            Se você precisar modificar uma variável global dentro de uma função, você deve usar a palavra-chave global."
   ]
  },
  {
   "cell_type": "markdown",
   "metadata": {},
   "source": [
    "#  **Escopo Local:**"
   ]
  },
  {
   "cell_type": "code",
   "execution_count": 9,
   "metadata": {},
   "outputs": [
    {
     "name": "stdout",
     "output_type": "stream",
     "text": [
      "x local 1 = 10\n",
      "x local 2 = 100\n"
     ]
    }
   ],
   "source": [
    "def local1():\n",
    "    x=10    \n",
    "    print(f'x local 1 = {x}')\n",
    "    def local2():\n",
    "        x=100\n",
    "        print(f'x local 2 = {x}')\n",
    "    # chamando a função local2\n",
    "    local2()\n",
    "    return\n",
    "\n",
    "# x nesse caso NÃO ESTA acessivel fora das funções\n",
    "# print(x) \n",
    "# chamando a função local 1\n",
    "local1()\n",
    "\n",
    "######################################################################\n",
    "# Resultado:  NameError: name 'x' is not defined"
   ]
  },
  {
   "cell_type": "markdown",
   "metadata": {},
   "source": [
    "# **Escopo Global:**\n",
    "\n",
    "    No exemplo abaixo x=1 , é a variavel global\n",
    "        então x é alcançavel dentro da função local1, sendo assim o valor de x (global) será atualizado o seu valor para 10.\n",
    "        Mas a função Local2, não consegue acessar o x global, assim não altera o valor de x para 100\n",
    "\n",
    "    #dica: debuggar o código para melhor compreenssão (visualize o call stack /pilhas de chamadas)\n"
   ]
  },
  {
   "cell_type": "code",
   "execution_count": 3,
   "metadata": {},
   "outputs": [
    {
     "name": "stdout",
     "output_type": "stream",
     "text": [
      "x global = 300\n",
      "x local 1 = 10\n",
      "x global apos função = 10\n"
     ]
    }
   ],
   "source": [
    "x = 300\n",
    "def local1():\n",
    "    global x \n",
    "    x=10\n",
    "    print(f'x local 1 = {x}')\n",
    "\n",
    "    return x \n",
    "\n",
    "# x nesse caso ESTA acessivel fora das funções\n",
    "print(f'x global = {x}') \n",
    "# chamando a função local 1\n",
    "local1()\n",
    "print(f'x global apos função = {x}') \n",
    "######################################################################\n",
    "# Resultado:    x global = 300\n",
    "#               x local 1 = 10\n",
    "#               x local 2 = 20\n",
    "#               x global apos função = 300"
   ]
  },
  {
   "cell_type": "markdown",
   "metadata": {},
   "source": [
    "# Palavra chave global (má prática)\n",
    "    altera o valor de x \n",
    "    considerado má prática de programação, é mais interessante passar x como parametro e enviar um argumento para ele\n",
    "\n",
    "    #dica: debuggar o código para melhor compreenssão (visualize o call stack /pilhas de chamadas)"
   ]
  },
  {
   "cell_type": "code",
   "execution_count": 10,
   "metadata": {},
   "outputs": [
    {
     "name": "stdout",
     "output_type": "stream",
     "text": [
      "<built-in method __subclasshook__ of type object at 0x00007FFF67A64290>\n",
      "x global = 300\n",
      "x local 1 = 10\n",
      "x local 2 = 20\n",
      "x global apos função = 20\n"
     ]
    }
   ],
   "source": [
    "x = 300\n",
    "def local1():\n",
    "    x=10\n",
    "    print(f'x local 1 = {x}')\n",
    "    def local2():\n",
    "        global x \n",
    "        x=20\n",
    "        print(f'x local 2 = {x}')\n",
    "    # chamando a função local2\n",
    "    local2()\n",
    "\n",
    "\n",
    "    \n",
    "# x nesse caso ESTA acessivel fora das funções\n",
    "print(f'x global = {x}') \n",
    "# chamando a função local 1\n",
    "local1()\n",
    "print(f'x global apos função = {x}') \n",
    "######################################################################\n",
    "# Resultado:  x global = 300\n",
    "#             x local 1 = 10\n",
    "#             x local 2 = 20\n",
    "#             x global apos função = 20\n",
    "\n",
    "print(local1.__subclasshook__)"
   ]
  },
  {
   "cell_type": "markdown",
   "metadata": {},
   "source": [
    "# **Return em funções**\n",
    "    Resumindo: é definir um valor para ser retornado da função, por padrão toda função retorna NONE\n",
    "\n",
    "    Return NÂO tem nada a ver com print()"
   ]
  },
  {
   "cell_type": "markdown",
   "metadata": {},
   "source": [
    "* **Exemplo sem return:**\n",
    "\n",
    "    por padrão retornará NONE"
   ]
  },
  {
   "cell_type": "code",
   "execution_count": null,
   "metadata": {},
   "outputs": [],
   "source": [
    "def soma(x, y):\n",
    "    print(x + y)\n",
    "\n",
    "calculo1 = soma(10, 2)\n",
    "print(calculo1)\n",
    "\n",
    "# Resultado:    5\n",
    "#               None"
   ]
  },
  {
   "cell_type": "markdown",
   "metadata": {},
   "source": [
    "* **Exemplo COM return:**"
   ]
  },
  {
   "cell_type": "code",
   "execution_count": null,
   "metadata": {},
   "outputs": [],
   "source": [
    "def soma(x, y):\n",
    "    return x + y\n",
    "\n",
    "calculo1 = soma(10, 2)\n",
    "print(calculo1)\n",
    "\n",
    "# Resultado:    "
   ]
  },
  {
   "cell_type": "markdown",
   "metadata": {},
   "source": [
    "* **AO atingir algum return a função encenrra**"
   ]
  },
  {
   "cell_type": "code",
   "execution_count": null,
   "metadata": {},
   "outputs": [],
   "source": [
    "def soma(x, y):\n",
    "    if x == 10:\n",
    "        return x * 3    # se condição atendida irá multiplicar\n",
    "    return x + y        # se condição não atendida irá somar\n",
    "\n",
    "calculo1 = soma(10, 2) \n",
    "calculo2 = soma(2, 2)\n",
    "\n",
    "print(calculo1) # no calculo o argumento x é == 10 (irá multiplicar)\n",
    "print(calculo2) # no calculo o argumento x é < que 10 (irá somar)\n",
    "\n",
    "# Resultado:    30\n",
    "#               4"
   ]
  },
  {
   "cell_type": "markdown",
   "metadata": {},
   "source": [
    "# * **args - Argumentos não nomeados**\n",
    "    resumindo: é tudo que for passado como argumento, tiipo uma variavel que envolve todos os argumentos\n",
    "    \n",
    "    por padrão é uma tupla\n",
    "    \n",
    "   "
   ]
  },
  {
   "cell_type": "code",
   "execution_count": null,
   "metadata": {},
   "outputs": [],
   "source": [
    "def calculo(*args):\n",
    "    resultado = 0\n",
    "    for i in args:\n",
    "        resultado += i # acumulador\n",
    "    return f'return da função: {resultado}'\n",
    "\n",
    "#chamando a função\n",
    "calculo(1,2,3,4,5)\n",
    "\n",
    "# Resultado: 'return da função: (1, 2, 3, 4, 5)'"
   ]
  },
  {
   "cell_type": "code",
   "execution_count": null,
   "metadata": {},
   "outputs": [],
   "source": [
    "def calculo(*args):\n",
    "    args = list(args)\n",
    "    print(f'tranformado args em lista: {type(args)}')\n",
    "    resultado = 0\n",
    "    for i in args:\n",
    "        resultado += i # acumulador\n",
    "    return f'return da função: {resultado}'\n",
    "\n",
    "#chamando a função\n",
    "calculo(1,2,3,4,5)\n",
    "\n",
    "# Resultado:    tranformado args em lista: <class 'list'>\n",
    "#               'return da função: 15'"
   ]
  },
  {
   "cell_type": "code",
   "execution_count": null,
   "metadata": {},
   "outputs": [],
   "source": [
    "def calculo(*args):\n",
    "    resultado = 0\n",
    "    for i in args:\n",
    "        resultado += i # acumulador\n",
    "    return f'return da função: {resultado}'\n",
    " \n",
    "numeros = 1,2,3,4,5 \n",
    "# aqui numero é uma tupla, então sera passado uma tupla como argumento,retornando uma tupla dentro da outra \n",
    "print(type(numeros)) \n",
    "#chamando a função\n",
    "resultado = calculo(numeros) \n",
    "\n",
    "# Resultado: TypeError: unsupported operand type(s) for +=: 'int' and 'tuple' (erro acorre por que )"
   ]
  },
  {
   "cell_type": "code",
   "execution_count": null,
   "metadata": {},
   "outputs": [],
   "source": [
    "def calculo(*args):\n",
    "    resultado = 0\n",
    "    for i in args:\n",
    "        resultado += i # acumulador\n",
    "    return f'return da função: {resultado}'\n",
    " \n",
    "numeros = 1,2,3,4,5 \n",
    "# aqui numeros é uma tupla, então sera passado uma tupla como argumento,retornando uma tupla dentro da outra, \n",
    "# para resolver precisamos desenpacotar a variavel numeros na chamada da função *numeros\n",
    "print(type(numeros)) \n",
    "#chamando a função\n",
    "resultado = calculo(*numeros) \n",
    "print(resultado)\n",
    "\n",
    "# Resultado:   <class 'tuple'>\n",
    "#              return da função: 15"
   ]
  },
  {
   "cell_type": "markdown",
   "metadata": {},
   "source": [
    "# **Passando função com Argumentos para outra função**\n",
    "    chamado de: Higher Order Functions (Funções de primeira classe)\n"
   ]
  },
  {
   "cell_type": "code",
   "execution_count": 29,
   "metadata": {},
   "outputs": [
    {
     "name": "stdout",
     "output_type": "stream",
     "text": [
      "Bem vindo... Dato!, como você esta?\n"
     ]
    }
   ],
   "source": [
    "def saudacao(mensagem, nome, texto): # poderiamos passar *args aqui tambem, porem viria como tupla\n",
    "    return f'{mensagem}... {nome}!, {texto}'\n",
    "\n",
    "def exultar_saudacao(funcao, *args): \n",
    "    return funcao(*args)\n",
    "\n",
    "print(exultar_saudacao(saudacao,'Bem vindo', 'Dato','como você esta?'))"
   ]
  },
  {
   "cell_type": "markdown",
   "metadata": {},
   "source": [
    "# **Closure e funções que retornam outras funções**\n",
    "\n"
   ]
  },
  {
   "cell_type": "code",
   "execution_count": null,
   "metadata": {},
   "outputs": [],
   "source": [
    "def criar_saudacao(saudacao):\n",
    "    def saudar(nome):\n",
    "        return f'{saudacao}, {nome}!'\n",
    "    return saudar\n",
    "\n",
    "\n",
    "falar_bom_dia = criar_saudacao('Bom dia')\n",
    "falar_boa_noite = criar_saudacao('Boa noite')\n",
    "\n",
    "for nome in ['Maria', 'Joana', 'Luiz']:\n",
    "    print(falar_bom_dia(nome))\n",
    "    print(falar_boa_noite(nome))\n",
    "\n",
    "# resultado:  Bom dia, Maria!\n",
    "#             Boa noite, Maria!\n",
    "#             Bom dia, Joana!\n",
    "#             Boa noite, Joana!\n",
    "#             Bom dia, Luiz!\n",
    "#             Boa noite, Luiz!"
   ]
  }
 ],
 "metadata": {
  "kernelspec": {
   "display_name": "Python 3",
   "language": "python",
   "name": "python3"
  },
  "language_info": {
   "codemirror_mode": {
    "name": "ipython",
    "version": 3
   },
   "file_extension": ".py",
   "mimetype": "text/x-python",
   "name": "python",
   "nbconvert_exporter": "python",
   "pygments_lexer": "ipython3",
   "version": "3.11.5"
  }
 },
 "nbformat": 4,
 "nbformat_minor": 2
}
