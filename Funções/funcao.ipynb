{
 "cells": [
  {
   "cell_type": "markdown",
   "metadata": {},
   "source": [
    "# **FUNÇÕES (def)** \n",
    "    Funções são trechos de código usados para replicar determinada ação ao longo do seu código.\n",
    "\n",
    "    Elas podem receber valores para parâmetros (argumentos) \n",
    "    e retornar um valor específico.\n",
    "\n",
    "    Por padrão, funções Python retornam None (nada).\n",
    "\n"
   ]
  },
  {
   "cell_type": "markdown",
   "metadata": {},
   "source": [
    "# **Entendendo: Parametro e Agumentos**"
   ]
  },
  {
   "cell_type": "markdown",
   "metadata": {},
   "source": [
    "# Paramentro:\n",
    "    Paramentro: é a variavél definida dentro dos parenteses da função, que devem receber valores(argumentos) quando a função é chamada.\n",
    "\n",
    "    por exemplo: \n",
    "                a,b,c são os parametros da função nome_da_funcao\n",
    "                def nome_da_funcao(a, b, c):"
   ]
  },
  {
   "cell_type": "code",
   "execution_count": null,
   "metadata": {},
   "outputs": [],
   "source": [
    "def nome_da_funcao(a, b, c):\n",
    "    ..."
   ]
  },
  {
   "cell_type": "markdown",
   "metadata": {},
   "source": [
    "# Argumento:\n",
    "    Argumento: São os valores dos parametros(variavel da função) que serão passados quando chamamos a função .\n",
    "\n",
    "    por exemplo: \n",
    "                1, 2, 3 como os argumentos para os parametros a, b, c                "
   ]
  },
  {
   "cell_type": "code",
   "execution_count": null,
   "metadata": {},
   "outputs": [],
   "source": [
    "def nome_da_funcao(a, b, c):\n",
    "    print(a, b, c)\n",
    "# chamando a função, e passando os argumentos \n",
    "nome_da_funcao(10, 20, 30)\n",
    "# chamando a mesma função e passando argumentos diferentes\n",
    "nome_da_funcao('Dato', 'Daniel', 'Zec')\n",
    "# resultado:    10 20 30\n",
    "#               Dato Daniel Zec\n"
   ]
  },
  {
   "cell_type": "markdown",
   "metadata": {},
   "source": [
    "# Argumentos nomeados\n",
    "    Argumentos nomeados recebem o nome do parâmetro antes do valor, argumentos posicionais recebem apenas o valor para preencher o parâmetro na ordem.\n",
    "\n",
    "        nomeados é interesante, pois podemos alterar a ordem de envio de valores para os parametros\n",
    "\n",
    "    regra: apartir do momento que eu isiro um argumento nomeado, todos os argumentos posterioeres devem ser nomeados tambem"
   ]
  },
  {
   "cell_type": "code",
   "execution_count": null,
   "metadata": {},
   "outputs": [],
   "source": [
    "def calcular(x, y, z):\n",
    "    # Definição\n",
    "    print(x * y + z)\n",
    "\n",
    "calcular(1, 2, 3) #agumentos posicional\n",
    "calcular(1, z=10, y=2) # argumentos nomeados\n",
    "# Resultado:  5\n",
    "#             12\n"
   ]
  },
  {
   "cell_type": "markdown",
   "metadata": {},
   "source": [
    "# Argumentos default (padrão)\n",
    "    ja nos paremtros  definimos um valor default padrão\n",
    "    se o argumento não for passado ao chamar irá execultar o padrão default padrão"
   ]
  },
  {
   "cell_type": "code",
   "execution_count": null,
   "metadata": {},
   "outputs": [],
   "source": [
    "def saudacao(nome= 'Sem Nome'):\n",
    "    print(f'Ola, {nome}')\n",
    "\n",
    "saudacao('Dato')\n",
    "saudacao('Ezequiel')\n",
    "saudacao()\n",
    "# Resultado:    Ola, Dato\n",
    "#               Ola, Ezequiel\n",
    "#               Ola, Sem Nome"
   ]
  },
  {
   "cell_type": "markdown",
   "metadata": {},
   "source": [
    "# **Escopo de funções**\n",
    "\n",
    "    Escopo significa o local onde aquele código pode atingir.\n",
    "\n",
    "    Existe o escopo global e local.\n",
    "        * O escopo global   \n",
    "            é o escopo onde todo o código é alcançavel.\n",
    "\n",
    "        * O escopo local\n",
    "            é o escopo onde apenas nomes do mesmo local podem ser alcançados. Elas são criadas quando a função é chamada e destruídas quando a função é concluída.\n",
    "\n",
    "        * Palavra chave GLOBAL\n",
    "            Se você precisar modificar uma variável global dentro de uma função, você deve usar a palavra-chave global."
   ]
  },
  {
   "cell_type": "markdown",
   "metadata": {},
   "source": [
    "#  **Escopo Local:**"
   ]
  },
  {
   "cell_type": "code",
   "execution_count": null,
   "metadata": {},
   "outputs": [],
   "source": [
    "def local1():\n",
    "    x=10    \n",
    "    print(f'x local 1 = {x}')\n",
    "    def local2():\n",
    "        x=100\n",
    "        print(f'x local 2 = {x}')\n",
    "    # chamando a função local2\n",
    "    local2()\n",
    "\n",
    "# x nesse caso NÃO ESTA acessivel fora das funções\n",
    "print(x) \n",
    "# chamando a função local 1\n",
    "local1()\n",
    "######################################################################\n",
    "# Resultado:  NameError: name 'x' is not defined"
   ]
  },
  {
   "cell_type": "markdown",
   "metadata": {},
   "source": [
    "# **Escopo Global:**\n",
    "\n",
    "No exemplo abaixo x=1 , é a variavel global\n",
    "    então x é alcançavel dentro da função local1, sendo assim o valor de x (global) será atualizado o seu valor para 10.\n",
    "    Mas a função Local2, não consegue acessar o x global, assim não altera o valor de x para 100\n"
   ]
  },
  {
   "cell_type": "code",
   "execution_count": null,
   "metadata": {},
   "outputs": [],
   "source": [
    "x = 300\n",
    "def local1():\n",
    "    x=10\n",
    "    print(f'x local 1 = {x}')\n",
    "    def local2():\n",
    "        x=20\n",
    "        print(f'x local 2 = {x}')\n",
    "    # chamando a função local2\n",
    "    local2()\n",
    "# x nesse caso ESTA acessivel fora das funções\n",
    "print(f'x global = {x}') \n",
    "# chamando a função local 1\n",
    "local1()\n",
    "print(f'x global apos função = {x}') \n",
    "######################################################################\n",
    "# Resultado:    x global = 300\n",
    "#               x local 1 = 10\n",
    "#               x local 2 = 20\n",
    "#               x global apos função = 300"
   ]
  },
  {
   "cell_type": "markdown",
   "metadata": {},
   "source": [
    "# Palavra chave global\n",
    "    altera o valor de x \n",
    "    considerado má prática de programação, é mais interessante passar x como parametro e enviar um argumento para ele"
   ]
  },
  {
   "cell_type": "code",
   "execution_count": null,
   "metadata": {},
   "outputs": [],
   "source": [
    "x = 300\n",
    "def local1():\n",
    "    x=10\n",
    "    print(f'x local 1 = {x}')\n",
    "    def local2():\n",
    "        global x \n",
    "        x=20\n",
    "        print(f'x local 2 = {x}')\n",
    "    # chamando a função local2\n",
    "    local2()\n",
    "# x nesse caso ESTA acessivel fora das funções\n",
    "print(f'x global = {x}') \n",
    "# chamando a função local 1\n",
    "local1()\n",
    "print(f'x global apos função = {x}') \n",
    "######################################################################\n",
    "# Resultado:  x global = 300\n",
    "#             x local 1 = 10\n",
    "#             x local 2 = 20\n",
    "#             x global apos função = 20"
   ]
  }
 ],
 "metadata": {
  "kernelspec": {
   "display_name": "Python 3",
   "language": "python",
   "name": "python3"
  },
  "language_info": {
   "codemirror_mode": {
    "name": "ipython",
    "version": 3
   },
   "file_extension": ".py",
   "mimetype": "text/x-python",
   "name": "python",
   "nbconvert_exporter": "python",
   "pygments_lexer": "ipython3",
   "version": "3.11.5"
  }
 },
 "nbformat": 4,
 "nbformat_minor": 2
}
