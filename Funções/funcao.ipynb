{
 "cells": [
  {
   "cell_type": "markdown",
   "metadata": {},
   "source": [
    "# **FUNÇÕES (def)** \n",
    "    Funções são trechos de código usados para replicar determinada ação ao longo do seu código.\n",
    "\n",
    "    Elas podem receber valores para parâmetros (argumentos) \n",
    "    e retornar um valor específico.\n",
    "\n",
    "    Por padrão, funções Python retornam None (nada).\n",
    "\n"
   ]
  },
  {
   "cell_type": "markdown",
   "metadata": {},
   "source": [
    "# **Entendendo: Parametro e Agumentos**"
   ]
  },
  {
   "cell_type": "markdown",
   "metadata": {},
   "source": [
    "# Paramentro:\n",
    "    Paramentro: é a variavél definida dentro dos parenteses da função, que devem receber valores(argumentos) quando a função é chamada.\n",
    "\n",
    "    por exemplo: \n",
    "                a,b,c são os parametros da função nome_da_funcao\n",
    "                def nome_da_funcao(a, b, c):"
   ]
  },
  {
   "cell_type": "code",
   "execution_count": null,
   "metadata": {},
   "outputs": [],
   "source": [
    "def nome_da_funcao(a, b, c):\n",
    "    ..."
   ]
  },
  {
   "cell_type": "markdown",
   "metadata": {},
   "source": [
    "# Argumento:\n",
    "    Argumento: São os valores dos parametros(variavel da função) que serão passados quando chamamos a função .\n",
    "\n",
    "    por exemplo: \n",
    "                1, 2, 3 como os argumentos para os parametros a, b, c                "
   ]
  },
  {
   "cell_type": "code",
   "execution_count": null,
   "metadata": {},
   "outputs": [],
   "source": [
    "def nome_da_funcao(a, b, c):\n",
    "    print(a, b, c)\n",
    "# chamando a função, e passando os argumentos \n",
    "nome_da_funcao(10, 20, 30)\n",
    "# chamando a mesma função e passando argumentos diferentes\n",
    "nome_da_funcao('Dato', 'Daniel', 'Zec')\n",
    "# resultado:    10 20 30\n",
    "#               Dato Daniel Zec\n"
   ]
  }
 ],
 "metadata": {
  "kernelspec": {
   "display_name": "Python 3",
   "language": "python",
   "name": "python3"
  },
  "language_info": {
   "codemirror_mode": {
    "name": "ipython",
    "version": 3
   },
   "file_extension": ".py",
   "mimetype": "text/x-python",
   "name": "python",
   "nbconvert_exporter": "python",
   "pygments_lexer": "ipython3",
   "version": "3.11.5"
  }
 },
 "nbformat": 4,
 "nbformat_minor": 2
}
