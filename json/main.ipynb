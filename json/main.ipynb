{
 "cells": [
  {
   "cell_type": "markdown",
   "metadata": {},
   "source": [
    "# ***O que é json***\n",
    "java scrip object notation\n",
    "\n",
    "json não é o dicionario em si, as estruturas são muito semelhantes\n",
    "\n",
    "json foi criado para salvar e transportar dados (pode ser apenas um valor), ou um pacote de dados\n",
    "\n",
    " e podemos ter varios tipos de estruturas de dados dentro de um json,\n",
    "exemplo: [lista], (tuplas), {dicionário}, str, booleanos(true/false), inteiros, flutuantes, null "
   ]
  },
  {
   "cell_type": "markdown",
   "metadata": {},
   "source": [
    "# ***API's publicas interessantes***\n",
    "\n",
    "https://randomuser.me/api \n",
    "\n",
    "    retorna dados fictícios de cadastro de usuario\n",
    "\n",
    "https://dummyjson.com \n",
    "\n",
    "    tem várias opção, conseguimos testar rotas e testar respostas\n",
    "\n",
    "\n",
    "https://www.invertexto.com/gerador-email-temporario \n",
    "\n",
    "    o link abaixo não é uma API, mas gera emaisl temporario, ondem podemos testar codigo com envios de email simulando como se fossse um envio real "
   ]
  },
  {
   "cell_type": "markdown",
   "metadata": {},
   "source": [
    "# ***Como salvar dados como json***\n",
    "pode ser qualquer dado: [] , {} , str , int , float etc...\n",
    "\n",
    "em python importamos a biblioteca json \n",
    "    \n",
    "    import json"
   ]
  },
  {
   "cell_type": "code",
   "execution_count": 5,
   "metadata": {},
   "outputs": [],
   "source": [
    "import json\n",
    "\n",
    "usuario = {\n",
    "    'nome': 'Dato',\n",
    "    'sobrenome': 'Carneiro',\n",
    "    'idade': 20,\n",
    "    'endereço':[{\n",
    "        'rua': 'ipe',\n",
    "        'numero': 1234,\n",
    "        'bairro': 'alpha Ville'\n",
    "    }],\n",
    "    'profissão': 'developer',\n",
    "    'numeros': (1,2,3,4,5,6),\n",
    "    'altura': 1.89,\n",
    "    'dev': True,\n",
    "    'nada': None\n",
    "}\n",
    "\n",
    "#                                   'w' , é para escrever\n",
    "with open('arquivo_combinado.json', 'w') as arquivo:\n",
    "    # dump vai salvar em arquivo , dumps vai imprimir no terminal\n",
    "    # ensure_ascii=False, vai corrigir os acentos corrigindo os caracteres especiais, codificando  de acordo com o sistema\n",
    "    # indent=True, vai organizar o json com indentação \n",
    "    json.dump(usuario, arquivo, ensure_ascii=False, indent=True)      \n",
    "\n",
    "#resultado: \n",
    "                # {\n",
    "                #  \"nome\": \"Dato\",\n",
    "                #  \"sobrenome\": \"Carneiro\",\n",
    "                #  \"idade\": 20,\n",
    "                #  \"endereço\": [\n",
    "                #   {\n",
    "                #    \"rua\": \"ipe\",\n",
    "                #    \"numero\": 1234,\n",
    "                #    \"bairro\": \"alpha Ville\"\n",
    "                #   }\n",
    "                #  ],\n",
    "                #  \"profissão\": \"developer\",\n",
    "                #  \"numeros\": [\n",
    "                #   1,\n",
    "                #   2,\n",
    "                #   3,\n",
    "                #   4,\n",
    "                #   5,\n",
    "                #   6\n",
    "                #  ],\n",
    "                #  \"altura\": 1.89,\n",
    "                #  \"dev\": true,\n",
    "                #  \"nada\": null\n",
    "                # }"
   ]
  },
  {
   "cell_type": "markdown",
   "metadata": {},
   "source": [
    "# ***Puxar dados de um json***"
   ]
  },
  {
   "cell_type": "code",
   "execution_count": null,
   "metadata": {},
   "outputs": [],
   "source": [
    "import json\n",
    "\n",
    "#                                   'r' é para ler \n",
    "with open('arquivo_combinado.json', 'r', encoding='utf8') as arquivo:\n",
    "    pessoa = json.load(arquivo, )\n",
    "    print(type(pessoa))\n",
    "    for i, v in pessoa.items():\n",
    "        print(i, v)\n",
    "# resultado:\n",
    "                # <class 'dict'>\n",
    "                # nome Dato\n",
    "                # sobrenome Carneiro\n",
    "                # idade 20\n",
    "                # endereço [{'rua': 'ipe', 'numero': 1234, 'bairro': 'alpha Ville'}]\n",
    "                # profissão developer\n",
    "                # numeros [1, 2, 3, 4, 5, 6]\n",
    "                # altura 1.89\n",
    "                # dev True\n",
    "                # nada None"
   ]
  }
 ],
 "metadata": {
  "kernelspec": {
   "display_name": "Python 3",
   "language": "python",
   "name": "python3"
  },
  "language_info": {
   "codemirror_mode": {
    "name": "ipython",
    "version": 3
   },
   "file_extension": ".py",
   "mimetype": "text/x-python",
   "name": "python",
   "nbconvert_exporter": "python",
   "pygments_lexer": "ipython3",
   "version": "3.11.5"
  }
 },
 "nbformat": 4,
 "nbformat_minor": 2
}
