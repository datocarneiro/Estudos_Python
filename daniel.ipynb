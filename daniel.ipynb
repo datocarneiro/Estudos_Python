{
 "cells": [
  {
   "cell_type": "code",
   "execution_count": 18,
   "metadata": {},
   "outputs": [
    {
     "name": "stdout",
     "output_type": "stream",
     "text": [
      "10\n",
      "rais\n",
      "dato\n",
      "10\n",
      "20\n",
      "30\n",
      "40\n",
      "50\n",
      "60\n",
      "70\n",
      "80\n",
      "90\n",
      "100\n",
      "cachorro\n",
      "gato\n"
     ]
    }
   ],
   "source": [
    "# indices 0      1       2    3  4  5  6  7  8  9 10 11  12      13         14\n",
    "lista = [10, 'rais', 'dato', 10,20,30,40,50,60,70,80,90,100, 'cachorro', 'gato']\n",
    "\n",
    "for indice in lista:\n",
    "    print(indice)"
   ]
  }
 ],
 "metadata": {
  "kernelspec": {
   "display_name": "Python 3",
   "language": "python",
   "name": "python3"
  },
  "language_info": {
   "codemirror_mode": {
    "name": "ipython",
    "version": 3
   },
   "file_extension": ".py",
   "mimetype": "text/x-python",
   "name": "python",
   "nbconvert_exporter": "python",
   "pygments_lexer": "ipython3",
   "version": "3.11.5"
  }
 },
 "nbformat": 4,
 "nbformat_minor": 2
}
