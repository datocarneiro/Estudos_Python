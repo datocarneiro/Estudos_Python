{
 "cells": [
  {
   "cell_type": "markdown",
   "metadata": {},
   "source": [
    "# ***'''Manipulção de Strings'''***\n",
    "\n",
    "```python\n",
    "str é uma class, então podemos chamar os method (métodos) que éssa classe possuiu\n",
    "\n",
    "para chamar os method (métodos) inserimos o `.` após a class str ficanco `str.` , no vscode isso irá retornar alguns métodos que a class str possui\n",
    "```"
   ]
  },
  {
   "cell_type": "markdown",
   "metadata": {},
   "source": [
    "# ***Alguns Métodos Utéis***\n",
    "\n",
    "| Método              | Descrição                                                                                      |\n",
    "|---------------------|------------------------------------------------------------------------------------------------|\n",
    "| `split()`           | Divide a string em uma lista, usando um separador especificado.                                |\n",
    "| `join()`            | Junta uma lista de strings em uma única string, usando um separador especificado.              |\n",
    "| `replace()`         | Substitui uma substring por outra dentro da string.                                            |\n",
    "| `strip()`           | Remove espaços em branco do início e do fim da string.                                         |\n",
    "| `lower()`           | Converte todos os caracteres da string para minúsculas.                                        |\n",
    "| `upper()`           | Converte todos os caracteres da string para maiúsculas.                                        |\n",
    "| `find()`            | Retorna o índice da primeira ocorrência de uma substring, ou -1 se não for encontrada.         |\n",
    "| `format()`          | Formata a string usando placeholders.                                                         |\n",
    "| `startswith()`      | Verifica se a string começa com a substring especificada.                                      |\n",
    "| `endswith()`        | Verifica se a string termina com a substring especificada.                                     |\n",
    "| `count()`           | Conta o número de ocorrências de uma substring.                                                |\n",
    "| `isalpha()`         | Verifica se todos os caracteres da string são letras.                                          |\n",
    "| `isdigit()`         | Verifica se todos os caracteres da string são dígitos.                                         |\n",
    "| `isalnum()`         | Verifica se todos os caracteres da string são alfanuméricos (letras ou dígitos).               |\n",
    "| `isspace()`         | Verifica se todos os caracteres da string são espaços em branco.                               |\n",
    "| `title()`           | Converte a primeira letra de cada palavra para maiúscula.                                      |\n",
    "| `capitalize()`      | Converte a primeira letra da string para maiúscula e o restante para minúsculas.               |\n",
    "| `swapcase()`        | Inverte o caso de todos os caracteres na string.                                               |\n",
    "| `center()`          | Centraliza a string usando um preenchimento especificado.                                      |\n",
    "| `ljust()`           | Alinha a string à esquerda, usando um preenchimento especificado.                              |\n",
    "| `rjust()`           | Alinha a string à direita, usando um preenchimento especificado.                               |\n",
    "| `partition()`       | Divide a string em três partes: antes, o separador, e depois do separador.                     |\n",
    "| `rpartition()`      | Divide a string em três partes: antes, o separador, e depois do separador, começando da direita|\n",
    "| `splitlines()`      | Divide a string em uma lista de linhas, respeitando quebras de linha.                          |\n",
    "| `zfill()`           | Preenche a string com zeros à esquerda até atingir um comprimento especificado.                 |\n",
    "| `rfind()`           | Retorna o índice da última ocorrência de uma substring, ou -1 se não for encontrada.           |\n",
    "| `rindex()`          | Retorna o índice da última ocorrência de uma substring, ou lança uma exceção se não for encontrada. |\n",
    "| `lstrip()`          | Remove espaços em branco do início da string.                                                  |\n",
    "| `rstrip()`          | Remove espaços em branco do fim da string.                                                     |\n",
    "| `expandtabs()`      | Substitui tabulações na string por espaços, com um tamanho de tabulação especificado.           |\n",
    "| `encode()`          | Codifica a string para bytes, usando uma codificação especificada.                             |\n",
    "| `decode()`          | Decodifica bytes para string, usando uma codificação especificada.                             |\n",
    "| `maketrans()`       | Cria uma tabela de mapeamento para tradução de caracteres.                                     |\n",
    "| `translate()`       | Traduza a string usando uma tabela de mapeamento criada por `maketrans()`.                     |\n",
    "| `isnumeric()`       | Verifica se todos os caracteres da string são numéricos.                                       |\n",
    "| `isdecimal()`       | Verifica se todos os caracteres da string são decimais.                                        |\n",
    "| `isidentifier()`    | Verifica se a string é um identificador válido em Python.                                      |\n",
    "| `casefold()`        | Converte a string para minúsculas de forma mais agressiva que `lower()`, útil para comparações. |\n"
   ]
  },
  {
   "cell_type": "markdown",
   "metadata": {},
   "source": [
    "    split e join com list e str\n",
    "    split - divide uma string (list)\n",
    "    join - une uma string"
   ]
  },
  {
   "cell_type": "markdown",
   "metadata": {},
   "source": [
    "# **Split**\n",
    "    retorna uma lista da frase, separarando a frase de acordo com o delimitador passado com argumento, se em branco ele considera o separador os espaços em brancos\n",
    "\n",
    "    list comprerantion se encaixa perfeito com split, pesquisar"
   ]
  },
  {
   "cell_type": "code",
   "execution_count": null,
   "metadata": {},
   "outputs": [],
   "source": [
    "\n",
    "frase = 'Olha só que, coisa interessante'\n",
    "lista_frases1 = frase.split()\n",
    "print(lista_frases1)\n",
    "# Resultado: ['Olha', 'só', 'que,', 'coisa', 'interessante']\n",
    "\n",
    "frase = 'Olha só que, coisa interessante'\n",
    "lista_frases2 = frase.split(',')\n",
    "print(lista_frases2)\n",
    "# Resultado: ['Olha só que', ' coisa interessante']"
   ]
  },
  {
   "cell_type": "code",
   "execution_count": null,
   "metadata": {},
   "outputs": [],
   "source": [
    "# útil\n",
    "frase = '   Olha só que   , coisa interessante          '\n",
    "lista_frases_cruas = frase.split(',')\n",
    "\n",
    "lista_frases_corrigida = []\n",
    "for i, frase in enumerate(lista_frases_cruas):\n",
    "    lista_frases_corrigida.append(lista_frases_cruas[i].strip())\n",
    "    \n",
    "print(lista_frases_corrigida)\n",
    "# Resultado: ['Olha só que', 'coisa interessante']\n"
   ]
  },
  {
   "cell_type": "markdown",
   "metadata": {},
   "source": [
    "# **join()**\n",
    "    une frase de acordo com o delimitador definido\n",
    "    "
   ]
  },
  {
   "cell_type": "code",
   "execution_count": null,
   "metadata": {},
   "outputs": [],
   "source": [
    "frase = ['Dato', 'Carneiro']\n",
    "frase_unida = ''.join(frase) # o delimitador é chamado antes\n",
    "print(frase_unida)\n",
    "# Resultado: Dato-Carneiro"
   ]
  },
  {
   "cell_type": "markdown",
   "metadata": {},
   "source": [
    "# **.replace()**\n",
    "    substitiu um caracter por outro, passado 2 argumentos\n",
    "\n",
    "        .replace(' ', '/')\n",
    "\n",
    "        o primeiro é o que devo substituir\n",
    "        o segundo é o que irá substituir\n",
    "\n",
    "        pode ser chamado   quantas vezes quiser"
   ]
  },
  {
   "cell_type": "code",
   "execution_count": null,
   "metadata": {},
   "outputs": [],
   "source": [
    "frase = 'Dato Carneiro'.replace(' ', '/')\n",
    "print(frase)\n",
    "# Resultado: Dato/Carneiro"
   ]
  },
  {
   "cell_type": "code",
   "execution_count": null,
   "metadata": {},
   "outputs": [],
   "source": [
    "frase = 'Dato Carneiro'.replace(' ', '/').replace('Dato','Jonathas')\n",
    "print(frase)\n",
    "# Resultado: Jonathas/Carneiro"
   ]
  },
  {
   "cell_type": "markdown",
   "metadata": {},
   "source": [
    "# **Eliminando espaços da frase**\n",
    "\n",
    "# strip()\n",
    "    Elimina os espaçõs do começo e do fim de uma frase"
   ]
  },
  {
   "cell_type": "code",
   "execution_count": 1,
   "metadata": {},
   "outputs": [
    {
     "name": "stdout",
     "output_type": "stream",
     "text": [
      "#Olha só que, coisa interessante#\n"
     ]
    }
   ],
   "source": [
    "frase = '    #Olha só que, coisa interessante#     '\n",
    "lista_frases2 = frase.strip()\n",
    "print(lista_frases2)\n",
    "# Resultado: #Olha só que, coisa interessante#"
   ]
  },
  {
   "cell_type": "markdown",
   "metadata": {},
   "source": [
    "# lstrip()\n",
    "    Elimina os espaços da esquerda frase"
   ]
  },
  {
   "cell_type": "code",
   "execution_count": null,
   "metadata": {},
   "outputs": [],
   "source": [
    "frase = '    #Olha só que, coisa interessante#     '\n",
    "lista_frases2 = frase.lstrip()\n",
    "print(lista_frases2)\n",
    "# Resultado: #Olha só que, coisa interessante#     ."
   ]
  },
  {
   "cell_type": "markdown",
   "metadata": {},
   "source": [
    "# rstrip()\n",
    "    Elimina os espaços da direita da frase"
   ]
  },
  {
   "cell_type": "code",
   "execution_count": null,
   "metadata": {},
   "outputs": [],
   "source": [
    "frase = '    #Olha só que, coisa interessante#     '\n",
    "lista_frases2 = frase.rstrip()\n",
    "print(lista_frases2)\n",
    "# Resultado:     #Olha só que, coisa interessante#."
   ]
  }
 ],
 "metadata": {
  "kernelspec": {
   "display_name": "Python 3",
   "language": "python",
   "name": "python3"
  },
  "language_info": {
   "codemirror_mode": {
    "name": "ipython",
    "version": 3
   },
   "file_extension": ".py",
   "mimetype": "text/x-python",
   "name": "python",
   "nbconvert_exporter": "python",
   "pygments_lexer": "ipython3",
   "version": "3.11.5"
  }
 },
 "nbformat": 4,
 "nbformat_minor": 2
}
